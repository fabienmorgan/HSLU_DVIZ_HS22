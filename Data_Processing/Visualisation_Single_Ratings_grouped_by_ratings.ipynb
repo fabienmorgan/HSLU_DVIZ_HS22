{
 "cells": [
  {
   "cell_type": "code",
   "execution_count": 3,
   "metadata": {},
   "outputs": [],
   "source": [
    "import pandas as pd\n",
    "import plotly.graph_objects as go\n",
    "import plotly.express as px\n",
    "from plotly.subplots import make_subplots"
   ]
  },
  {
   "cell_type": "code",
   "execution_count": 4,
   "metadata": {},
   "outputs": [],
   "source": [
    "all_ratings = pd.read_csv('data/all_ratings.csv')\n",
    "ratings_single_account = pd.read_csv('data/ratings_single_account.csv')"
   ]
  },
  {
   "cell_type": "code",
   "execution_count": 5,
   "metadata": {},
   "outputs": [
    {
     "data": {
      "text/html": [
       "<div>\n",
       "<style scoped>\n",
       "    .dataframe tbody tr th:only-of-type {\n",
       "        vertical-align: middle;\n",
       "    }\n",
       "\n",
       "    .dataframe tbody tr th {\n",
       "        vertical-align: top;\n",
       "    }\n",
       "\n",
       "    .dataframe thead th {\n",
       "        text-align: right;\n",
       "    }\n",
       "</style>\n",
       "<table border=\"1\" class=\"dataframe\">\n",
       "  <thead>\n",
       "    <tr style=\"text-align: right;\">\n",
       "      <th></th>\n",
       "      <th>rating_id</th>\n",
       "      <th>userId</th>\n",
       "      <th>movieId</th>\n",
       "      <th>rating</th>\n",
       "      <th>rating_date</th>\n",
       "    </tr>\n",
       "  </thead>\n",
       "  <tbody>\n",
       "    <tr>\n",
       "      <th>0</th>\n",
       "      <td>1</td>\n",
       "      <td>1</td>\n",
       "      <td>307</td>\n",
       "      <td>3.5</td>\n",
       "      <td>2009-10-27 09:00:21</td>\n",
       "    </tr>\n",
       "    <tr>\n",
       "      <th>1</th>\n",
       "      <td>2</td>\n",
       "      <td>1</td>\n",
       "      <td>481</td>\n",
       "      <td>3.5</td>\n",
       "      <td>2009-10-27 09:04:16</td>\n",
       "    </tr>\n",
       "    <tr>\n",
       "      <th>2</th>\n",
       "      <td>3</td>\n",
       "      <td>1</td>\n",
       "      <td>1091</td>\n",
       "      <td>1.5</td>\n",
       "      <td>2009-10-27 09:04:31</td>\n",
       "    </tr>\n",
       "    <tr>\n",
       "      <th>3</th>\n",
       "      <td>4</td>\n",
       "      <td>1</td>\n",
       "      <td>1257</td>\n",
       "      <td>4.5</td>\n",
       "      <td>2009-10-27 09:04:20</td>\n",
       "    </tr>\n",
       "    <tr>\n",
       "      <th>4</th>\n",
       "      <td>5</td>\n",
       "      <td>1</td>\n",
       "      <td>1449</td>\n",
       "      <td>4.5</td>\n",
       "      <td>2009-10-27 09:01:04</td>\n",
       "    </tr>\n",
       "  </tbody>\n",
       "</table>\n",
       "</div>"
      ],
      "text/plain": [
       "   rating_id  userId  movieId  rating          rating_date\n",
       "0          1       1      307     3.5  2009-10-27 09:00:21\n",
       "1          2       1      481     3.5  2009-10-27 09:04:16\n",
       "2          3       1     1091     1.5  2009-10-27 09:04:31\n",
       "3          4       1     1257     4.5  2009-10-27 09:04:20\n",
       "4          5       1     1449     4.5  2009-10-27 09:01:04"
      ]
     },
     "execution_count": 5,
     "metadata": {},
     "output_type": "execute_result"
    }
   ],
   "source": [
    "all_ratings.head()"
   ]
  },
  {
   "cell_type": "code",
   "execution_count": 6,
   "metadata": {},
   "outputs": [
    {
     "data": {
      "text/plain": [
       "27753444"
      ]
     },
     "execution_count": 6,
     "metadata": {},
     "output_type": "execute_result"
    }
   ],
   "source": [
    "len(all_ratings)"
   ]
  },
  {
   "cell_type": "code",
   "execution_count": 7,
   "metadata": {},
   "outputs": [
    {
     "data": {
      "text/html": [
       "<div>\n",
       "<style scoped>\n",
       "    .dataframe tbody tr th:only-of-type {\n",
       "        vertical-align: middle;\n",
       "    }\n",
       "\n",
       "    .dataframe tbody tr th {\n",
       "        vertical-align: top;\n",
       "    }\n",
       "\n",
       "    .dataframe thead th {\n",
       "        text-align: right;\n",
       "    }\n",
       "</style>\n",
       "<table border=\"1\" class=\"dataframe\">\n",
       "  <thead>\n",
       "    <tr style=\"text-align: right;\">\n",
       "      <th></th>\n",
       "      <th>rating_id</th>\n",
       "      <th>userId</th>\n",
       "      <th>movieId</th>\n",
       "      <th>rating</th>\n",
       "      <th>rating_date</th>\n",
       "    </tr>\n",
       "  </thead>\n",
       "  <tbody>\n",
       "    <tr>\n",
       "      <th>0</th>\n",
       "      <td>19834829</td>\n",
       "      <td>202382</td>\n",
       "      <td>1</td>\n",
       "      <td>5.0</td>\n",
       "      <td>1997-05-20 06:50:22</td>\n",
       "    </tr>\n",
       "    <tr>\n",
       "      <th>1</th>\n",
       "      <td>25102792</td>\n",
       "      <td>256349</td>\n",
       "      <td>1</td>\n",
       "      <td>5.0</td>\n",
       "      <td>2017-08-24 03:49:46</td>\n",
       "    </tr>\n",
       "    <tr>\n",
       "      <th>2</th>\n",
       "      <td>15849334</td>\n",
       "      <td>161826</td>\n",
       "      <td>1</td>\n",
       "      <td>3.0</td>\n",
       "      <td>2016-12-17 15:13:43</td>\n",
       "    </tr>\n",
       "    <tr>\n",
       "      <th>3</th>\n",
       "      <td>21184239</td>\n",
       "      <td>216433</td>\n",
       "      <td>1</td>\n",
       "      <td>5.0</td>\n",
       "      <td>2015-11-19 04:07:21</td>\n",
       "    </tr>\n",
       "    <tr>\n",
       "      <th>4</th>\n",
       "      <td>4464337</td>\n",
       "      <td>45860</td>\n",
       "      <td>1</td>\n",
       "      <td>5.0</td>\n",
       "      <td>2001-11-24 12:06:59</td>\n",
       "    </tr>\n",
       "  </tbody>\n",
       "</table>\n",
       "</div>"
      ],
      "text/plain": [
       "   rating_id  userId  movieId  rating          rating_date\n",
       "0   19834829  202382        1     5.0  1997-05-20 06:50:22\n",
       "1   25102792  256349        1     5.0  2017-08-24 03:49:46\n",
       "2   15849334  161826        1     3.0  2016-12-17 15:13:43\n",
       "3   21184239  216433        1     5.0  2015-11-19 04:07:21\n",
       "4    4464337   45860        1     5.0  2001-11-24 12:06:59"
      ]
     },
     "execution_count": 7,
     "metadata": {},
     "output_type": "execute_result"
    }
   ],
   "source": [
    "ratings_single_account.head()"
   ]
  },
  {
   "cell_type": "code",
   "execution_count": 8,
   "metadata": {},
   "outputs": [
    {
     "data": {
      "text/plain": [
       "5620"
      ]
     },
     "execution_count": 8,
     "metadata": {},
     "output_type": "execute_result"
    }
   ],
   "source": [
    "len(ratings_single_account)"
   ]
  },
  {
   "cell_type": "code",
   "execution_count": 9,
   "metadata": {},
   "outputs": [],
   "source": [
    "def return_list_of_binned_ratings(list_of_ratings, ratings):\n",
    "    ratings_for_movie_binned_lst = len(list_of_ratings) * [0]\n",
    "    \n",
    "    for rating in ratings:\n",
    "        index = list_of_ratings.index(rating)\n",
    "        ratings_for_movie_binned_lst[index] += 1\n",
    "\n",
    "    return dict(zip(list_of_ratings,ratings_for_movie_binned_lst))"
   ]
  },
  {
   "cell_type": "code",
   "execution_count": 10,
   "metadata": {},
   "outputs": [
    {
     "name": "stdout",
     "output_type": "stream",
     "text": [
      "Die Zahl der Beiden listen Zusammenaddiert: 27753444 sollte mit der Zahl der ganzen Liste 27753444 übereinstimmen\n"
     ]
    },
    {
     "data": {
      "text/html": [
       "<div>\n",
       "<style scoped>\n",
       "    .dataframe tbody tr th:only-of-type {\n",
       "        vertical-align: middle;\n",
       "    }\n",
       "\n",
       "    .dataframe tbody tr th {\n",
       "        vertical-align: top;\n",
       "    }\n",
       "\n",
       "    .dataframe thead th {\n",
       "        text-align: right;\n",
       "    }\n",
       "</style>\n",
       "<table border=\"1\" class=\"dataframe\">\n",
       "  <thead>\n",
       "    <tr style=\"text-align: right;\">\n",
       "      <th></th>\n",
       "      <th>rating_id</th>\n",
       "      <th>userId</th>\n",
       "      <th>movieId</th>\n",
       "      <th>rating</th>\n",
       "      <th>rating_date</th>\n",
       "    </tr>\n",
       "  </thead>\n",
       "  <tbody>\n",
       "    <tr>\n",
       "      <th>0</th>\n",
       "      <td>1</td>\n",
       "      <td>1</td>\n",
       "      <td>307</td>\n",
       "      <td>3.5</td>\n",
       "      <td>2009-10-27 09:00:21</td>\n",
       "    </tr>\n",
       "    <tr>\n",
       "      <th>1</th>\n",
       "      <td>2</td>\n",
       "      <td>1</td>\n",
       "      <td>481</td>\n",
       "      <td>3.5</td>\n",
       "      <td>2009-10-27 09:04:16</td>\n",
       "    </tr>\n",
       "    <tr>\n",
       "      <th>2</th>\n",
       "      <td>3</td>\n",
       "      <td>1</td>\n",
       "      <td>1091</td>\n",
       "      <td>1.5</td>\n",
       "      <td>2009-10-27 09:04:31</td>\n",
       "    </tr>\n",
       "    <tr>\n",
       "      <th>3</th>\n",
       "      <td>4</td>\n",
       "      <td>1</td>\n",
       "      <td>1257</td>\n",
       "      <td>4.5</td>\n",
       "      <td>2009-10-27 09:04:20</td>\n",
       "    </tr>\n",
       "    <tr>\n",
       "      <th>4</th>\n",
       "      <td>5</td>\n",
       "      <td>1</td>\n",
       "      <td>1449</td>\n",
       "      <td>4.5</td>\n",
       "      <td>2009-10-27 09:01:04</td>\n",
       "    </tr>\n",
       "  </tbody>\n",
       "</table>\n",
       "</div>"
      ],
      "text/plain": [
       "   rating_id  userId  movieId  rating          rating_date\n",
       "0          1       1      307     3.5  2009-10-27 09:00:21\n",
       "1          2       1      481     3.5  2009-10-27 09:04:16\n",
       "2          3       1     1091     1.5  2009-10-27 09:04:31\n",
       "3          4       1     1257     4.5  2009-10-27 09:04:20\n",
       "4          5       1     1449     4.5  2009-10-27 09:01:04"
      ]
     },
     "execution_count": 10,
     "metadata": {},
     "output_type": "execute_result"
    }
   ],
   "source": [
    "common = all_ratings.merge(ratings_single_account,on=['rating_id'])\n",
    "ratings_without_single_account = all_ratings[~all_ratings.rating_id.isin(common.rating_id)]\n",
    "print(f'Die Zahl der Beiden listen Zusammenaddiert: {len(ratings_without_single_account) + len(ratings_single_account)} sollte mit der Zahl der ganzen Liste {len(all_ratings)} übereinstimmen')\n",
    "ratings_without_single_account.head()"
   ]
  },
  {
   "cell_type": "code",
   "execution_count": 11,
   "metadata": {},
   "outputs": [],
   "source": [
    "list_of_ratings = [5.0, 4.5, 4.0, 3.5, 3.0, 2.5, 2.0, 1.5, 1.0, 0.5]  \n",
    "list_of_ratings = list_of_ratings[::-1]\n",
    "\n",
    "binned_ratings_single_account = return_list_of_binned_ratings(list_of_ratings, ratings_single_account['rating'])\n",
    "binned_ratings_without_single_accounts = return_list_of_binned_ratings(list_of_ratings, ratings_without_single_account['rating'])"
   ]
  },
  {
   "cell_type": "code",
   "execution_count": 12,
   "metadata": {},
   "outputs": [
    {
     "name": "stdout",
     "output_type": "stream",
     "text": [
      "{0.5: 164, 1.0: 194, 1.5: 84, 2.0: 255, 2.5: 175, 3.0: 714, 3.5: 442, 4.0: 1284, 4.5: 495, 5.0: 1813}\n",
      "{0.5: 442224, 1.0: 886039, 1.5: 441270, 2.0: 1850372, 2.5: 1373244, 3.0: 5514954, 3.5: 3403918, 4.0: 7393426, 4.5: 2373055, 5.0: 4069322}\n"
     ]
    }
   ],
   "source": [
    "print(binned_ratings_single_account)\n",
    "print(binned_ratings_without_single_accounts)"
   ]
  },
  {
   "cell_type": "code",
   "execution_count": 13,
   "metadata": {},
   "outputs": [],
   "source": [
    "binned_ratings_single_account_percentage = {k: v / len(ratings_single_account) for k, v in binned_ratings_single_account.items()}\n",
    "binned_ratings_without_single_accounts_percentage = {k: v / len(ratings_without_single_account) for k, v in binned_ratings_without_single_accounts.items()}"
   ]
  },
  {
   "cell_type": "code",
   "execution_count": 14,
   "metadata": {},
   "outputs": [
    {
     "name": "stdout",
     "output_type": "stream",
     "text": [
      "{0.5: 0.029181494661921707, 1.0: 0.03451957295373666, 1.5: 0.01494661921708185, 2.0: 0.045373665480427046, 2.5: 0.03113879003558719, 3.0: 0.12704626334519573, 3.5: 0.07864768683274022, 4.0: 0.22846975088967972, 4.5: 0.08807829181494661, 5.0: 0.3225978647686833}\n",
      "{0.5: 0.015937249710103393, 1.0: 0.03193183724965244, 1.5: 0.015902868635753204, 2.0: 0.06668530116091266, 2.5: 0.04949015101148112, 3.0: 0.19875266615501094, 3.5: 0.12267333106913177, 4.0: 0.2664506593381881, 4.5: 0.0855222016688588, 5.0: 0.14665373400090762}\n"
     ]
    }
   ],
   "source": [
    "print(binned_ratings_single_account_percentage)\n",
    "print(binned_ratings_without_single_accounts_percentage)"
   ]
  },
  {
   "cell_type": "code",
   "execution_count": 15,
   "metadata": {},
   "outputs": [],
   "source": [
    "def calcuate_position_outside_annotations(dict_of_stacked_elements, list_of_ratings, threshold):\n",
    "    sum = 0\n",
    "    dict_position_to_small_ratings = {}\n",
    "    for rating in list_of_ratings:\n",
    "        if dict_of_stacked_elements[rating] >= threshold:\n",
    "            sum += dict_of_stacked_elements[rating]\n",
    "        else:\n",
    "            dict_position_to_small_ratings[rating] = sum + (dict_of_stacked_elements[rating] / 2)\n",
    "            sum += dict_of_stacked_elements[rating]\n",
    "\n",
    "    return dict_position_to_small_ratings"
   ]
  },
  {
   "cell_type": "code",
   "execution_count": 57,
   "metadata": {},
   "outputs": [],
   "source": [
    "def create_stacked_barchart_subplot(figure, threshold, description, list_with_content, position_x, position_y, colors, list_of_ratings, text_over):\n",
    "    if text_over:\n",
    "        y_offset = 0.5\n",
    "    else:\n",
    "        y_offset = -0.5\n",
    "\n",
    "    traces = []\n",
    "    for i, rating in enumerate(list_of_ratings):\n",
    "        text = 'inside' if list_with_content[rating] > threshold else 'none'\n",
    "\n",
    "        trace = go.Bar(y=description,\n",
    "                        x=[list_with_content[rating]],\n",
    "                        name=f'{rating}',\n",
    "                        showlegend=False,\n",
    "                        orientation='h',\n",
    "                        textangle=0,\n",
    "                        marker_color=colors[i],\n",
    "                        textposition=text,\n",
    "                        text=rating,\n",
    "                        insidetextanchor='middle',\n",
    "                        hovertemplate='Percentage of score '+ str(rating) +': '+ str(round(list_with_content[rating] * 100, 2)) +'%' +\n",
    "                        \"<extra></extra>\")\n",
    "        traces.append(trace)\n",
    "\n",
    "    position_to_small_content = calcuate_position_outside_annotations(list_with_content, list_of_ratings, threshold)\n",
    "\n",
    "    for rating in position_to_small_content:\n",
    "        figure.add_annotation(x=position_to_small_content[rating], y=y_offset,\n",
    "                            text=rating,\n",
    "                            showarrow=False,\n",
    "                            xref=f'x{position_x}',\n",
    "                            yref=f'y{position_y}')\n",
    "    \n",
    "    figure.add_traces(traces, position_y, position_x)"
   ]
  },
  {
   "cell_type": "code",
   "execution_count": 58,
   "metadata": {},
   "outputs": [
    {
     "data": {
      "application/vnd.plotly.v1+json": {
       "config": {
        "plotlyServerURL": "https://plot.ly"
       },
       "data": [
        {
         "hovertemplate": "Percentage of score 0.5: 2.92%<extra></extra>",
         "insidetextanchor": "middle",
         "marker": {
          "color": "#440154"
         },
         "name": "0.5",
         "orientation": "h",
         "showlegend": false,
         "text": "0.5",
         "textangle": 0,
         "textposition": "inside",
         "type": "bar",
         "x": [
          0.029181494661921707
         ],
         "xaxis": "x",
         "y": [
          "Score distribution from <br> Users with only one rating"
         ],
         "yaxis": "y"
        },
        {
         "hovertemplate": "Percentage of score 1.0: 3.45%<extra></extra>",
         "insidetextanchor": "middle",
         "marker": {
          "color": "#482878"
         },
         "name": "1.0",
         "orientation": "h",
         "showlegend": false,
         "text": "1.0",
         "textangle": 0,
         "textposition": "inside",
         "type": "bar",
         "x": [
          0.03451957295373666
         ],
         "xaxis": "x",
         "y": [
          "Score distribution from <br> Users with only one rating"
         ],
         "yaxis": "y"
        },
        {
         "hovertemplate": "Percentage of score 1.5: 1.49%<extra></extra>",
         "insidetextanchor": "middle",
         "marker": {
          "color": "#3e4989"
         },
         "name": "1.5",
         "orientation": "h",
         "showlegend": false,
         "text": "1.5",
         "textangle": 0,
         "textposition": "none",
         "type": "bar",
         "x": [
          0.01494661921708185
         ],
         "xaxis": "x",
         "y": [
          "Score distribution from <br> Users with only one rating"
         ],
         "yaxis": "y"
        },
        {
         "hovertemplate": "Percentage of score 2.0: 4.54%<extra></extra>",
         "insidetextanchor": "middle",
         "marker": {
          "color": "#31688e"
         },
         "name": "2.0",
         "orientation": "h",
         "showlegend": false,
         "text": "2.0",
         "textangle": 0,
         "textposition": "inside",
         "type": "bar",
         "x": [
          0.045373665480427046
         ],
         "xaxis": "x",
         "y": [
          "Score distribution from <br> Users with only one rating"
         ],
         "yaxis": "y"
        },
        {
         "hovertemplate": "Percentage of score 2.5: 3.11%<extra></extra>",
         "insidetextanchor": "middle",
         "marker": {
          "color": "#26828e"
         },
         "name": "2.5",
         "orientation": "h",
         "showlegend": false,
         "text": "2.5",
         "textangle": 0,
         "textposition": "inside",
         "type": "bar",
         "x": [
          0.03113879003558719
         ],
         "xaxis": "x",
         "y": [
          "Score distribution from <br> Users with only one rating"
         ],
         "yaxis": "y"
        },
        {
         "hovertemplate": "Percentage of score 3.0: 12.7%<extra></extra>",
         "insidetextanchor": "middle",
         "marker": {
          "color": "#1f9e89"
         },
         "name": "3.0",
         "orientation": "h",
         "showlegend": false,
         "text": "3.0",
         "textangle": 0,
         "textposition": "inside",
         "type": "bar",
         "x": [
          0.12704626334519573
         ],
         "xaxis": "x",
         "y": [
          "Score distribution from <br> Users with only one rating"
         ],
         "yaxis": "y"
        },
        {
         "hovertemplate": "Percentage of score 3.5: 7.86%<extra></extra>",
         "insidetextanchor": "middle",
         "marker": {
          "color": "#35b779"
         },
         "name": "3.5",
         "orientation": "h",
         "showlegend": false,
         "text": "3.5",
         "textangle": 0,
         "textposition": "inside",
         "type": "bar",
         "x": [
          0.07864768683274022
         ],
         "xaxis": "x",
         "y": [
          "Score distribution from <br> Users with only one rating"
         ],
         "yaxis": "y"
        },
        {
         "hovertemplate": "Percentage of score 4.0: 22.85%<extra></extra>",
         "insidetextanchor": "middle",
         "marker": {
          "color": "#6ece58"
         },
         "name": "4.0",
         "orientation": "h",
         "showlegend": false,
         "text": "4.0",
         "textangle": 0,
         "textposition": "inside",
         "type": "bar",
         "x": [
          0.22846975088967972
         ],
         "xaxis": "x",
         "y": [
          "Score distribution from <br> Users with only one rating"
         ],
         "yaxis": "y"
        },
        {
         "hovertemplate": "Percentage of score 4.5: 8.81%<extra></extra>",
         "insidetextanchor": "middle",
         "marker": {
          "color": "#b5de2b"
         },
         "name": "4.5",
         "orientation": "h",
         "showlegend": false,
         "text": "4.5",
         "textangle": 0,
         "textposition": "inside",
         "type": "bar",
         "x": [
          0.08807829181494661
         ],
         "xaxis": "x",
         "y": [
          "Score distribution from <br> Users with only one rating"
         ],
         "yaxis": "y"
        },
        {
         "hovertemplate": "Percentage of score 5.0: 32.26%<extra></extra>",
         "insidetextanchor": "middle",
         "marker": {
          "color": "#fde725"
         },
         "name": "5.0",
         "orientation": "h",
         "showlegend": false,
         "text": "5.0",
         "textangle": 0,
         "textposition": "inside",
         "type": "bar",
         "x": [
          0.3225978647686833
         ],
         "xaxis": "x",
         "y": [
          "Score distribution from <br> Users with only one rating"
         ],
         "yaxis": "y"
        },
        {
         "hovertemplate": "Percentage of score 0.5: 1.59%<extra></extra>",
         "insidetextanchor": "middle",
         "marker": {
          "color": "#440154"
         },
         "name": "0.5",
         "orientation": "h",
         "showlegend": false,
         "text": "0.5",
         "textangle": 0,
         "textposition": "none",
         "type": "bar",
         "x": [
          0.015937249710103393
         ],
         "xaxis": "x2",
         "y": [
          "Score distribution from <br> Users with multiple ratings"
         ],
         "yaxis": "y2"
        },
        {
         "hovertemplate": "Percentage of score 1.0: 3.19%<extra></extra>",
         "insidetextanchor": "middle",
         "marker": {
          "color": "#482878"
         },
         "name": "1.0",
         "orientation": "h",
         "showlegend": false,
         "text": "1.0",
         "textangle": 0,
         "textposition": "inside",
         "type": "bar",
         "x": [
          0.03193183724965244
         ],
         "xaxis": "x2",
         "y": [
          "Score distribution from <br> Users with multiple ratings"
         ],
         "yaxis": "y2"
        },
        {
         "hovertemplate": "Percentage of score 1.5: 1.59%<extra></extra>",
         "insidetextanchor": "middle",
         "marker": {
          "color": "#3e4989"
         },
         "name": "1.5",
         "orientation": "h",
         "showlegend": false,
         "text": "1.5",
         "textangle": 0,
         "textposition": "none",
         "type": "bar",
         "x": [
          0.015902868635753204
         ],
         "xaxis": "x2",
         "y": [
          "Score distribution from <br> Users with multiple ratings"
         ],
         "yaxis": "y2"
        },
        {
         "hovertemplate": "Percentage of score 2.0: 6.67%<extra></extra>",
         "insidetextanchor": "middle",
         "marker": {
          "color": "#31688e"
         },
         "name": "2.0",
         "orientation": "h",
         "showlegend": false,
         "text": "2.0",
         "textangle": 0,
         "textposition": "inside",
         "type": "bar",
         "x": [
          0.06668530116091266
         ],
         "xaxis": "x2",
         "y": [
          "Score distribution from <br> Users with multiple ratings"
         ],
         "yaxis": "y2"
        },
        {
         "hovertemplate": "Percentage of score 2.5: 4.95%<extra></extra>",
         "insidetextanchor": "middle",
         "marker": {
          "color": "#26828e"
         },
         "name": "2.5",
         "orientation": "h",
         "showlegend": false,
         "text": "2.5",
         "textangle": 0,
         "textposition": "inside",
         "type": "bar",
         "x": [
          0.04949015101148112
         ],
         "xaxis": "x2",
         "y": [
          "Score distribution from <br> Users with multiple ratings"
         ],
         "yaxis": "y2"
        },
        {
         "hovertemplate": "Percentage of score 3.0: 19.88%<extra></extra>",
         "insidetextanchor": "middle",
         "marker": {
          "color": "#1f9e89"
         },
         "name": "3.0",
         "orientation": "h",
         "showlegend": false,
         "text": "3.0",
         "textangle": 0,
         "textposition": "inside",
         "type": "bar",
         "x": [
          0.19875266615501094
         ],
         "xaxis": "x2",
         "y": [
          "Score distribution from <br> Users with multiple ratings"
         ],
         "yaxis": "y2"
        },
        {
         "hovertemplate": "Percentage of score 3.5: 12.27%<extra></extra>",
         "insidetextanchor": "middle",
         "marker": {
          "color": "#35b779"
         },
         "name": "3.5",
         "orientation": "h",
         "showlegend": false,
         "text": "3.5",
         "textangle": 0,
         "textposition": "inside",
         "type": "bar",
         "x": [
          0.12267333106913177
         ],
         "xaxis": "x2",
         "y": [
          "Score distribution from <br> Users with multiple ratings"
         ],
         "yaxis": "y2"
        },
        {
         "hovertemplate": "Percentage of score 4.0: 26.65%<extra></extra>",
         "insidetextanchor": "middle",
         "marker": {
          "color": "#6ece58"
         },
         "name": "4.0",
         "orientation": "h",
         "showlegend": false,
         "text": "4.0",
         "textangle": 0,
         "textposition": "inside",
         "type": "bar",
         "x": [
          0.2664506593381881
         ],
         "xaxis": "x2",
         "y": [
          "Score distribution from <br> Users with multiple ratings"
         ],
         "yaxis": "y2"
        },
        {
         "hovertemplate": "Percentage of score 4.5: 8.55%<extra></extra>",
         "insidetextanchor": "middle",
         "marker": {
          "color": "#b5de2b"
         },
         "name": "4.5",
         "orientation": "h",
         "showlegend": false,
         "text": "4.5",
         "textangle": 0,
         "textposition": "inside",
         "type": "bar",
         "x": [
          0.0855222016688588
         ],
         "xaxis": "x2",
         "y": [
          "Score distribution from <br> Users with multiple ratings"
         ],
         "yaxis": "y2"
        },
        {
         "hovertemplate": "Percentage of score 5.0: 14.67%<extra></extra>",
         "insidetextanchor": "middle",
         "marker": {
          "color": "#fde725"
         },
         "name": "5.0",
         "orientation": "h",
         "showlegend": false,
         "text": "5.0",
         "textangle": 0,
         "textposition": "inside",
         "type": "bar",
         "x": [
          0.14665373400090762
         ],
         "xaxis": "x2",
         "y": [
          "Score distribution from <br> Users with multiple ratings"
         ],
         "yaxis": "y2"
        }
       ],
       "layout": {
        "annotations": [
         {
          "showarrow": false,
          "text": "1.5",
          "x": 0.07117437722419928,
          "xref": "x",
          "y": 0.5,
          "yref": "y"
         },
         {
          "showarrow": false,
          "text": "0.5",
          "x": 0.007968624855051697,
          "xref": "x",
          "y": -0.5,
          "yref": "y2"
         },
         {
          "showarrow": false,
          "text": "1.5",
          "x": 0.055820521277632436,
          "xref": "x",
          "y": -0.5,
          "yref": "y2"
         }
        ],
        "barmode": "stack",
        "plot_bgcolor": "#FFFFFF",
        "template": {
         "data": {
          "bar": [
           {
            "error_x": {
             "color": "#2a3f5f"
            },
            "error_y": {
             "color": "#2a3f5f"
            },
            "marker": {
             "line": {
              "color": "#E5ECF6",
              "width": 0.5
             },
             "pattern": {
              "fillmode": "overlay",
              "size": 10,
              "solidity": 0.2
             }
            },
            "type": "bar"
           }
          ],
          "barpolar": [
           {
            "marker": {
             "line": {
              "color": "#E5ECF6",
              "width": 0.5
             },
             "pattern": {
              "fillmode": "overlay",
              "size": 10,
              "solidity": 0.2
             }
            },
            "type": "barpolar"
           }
          ],
          "carpet": [
           {
            "aaxis": {
             "endlinecolor": "#2a3f5f",
             "gridcolor": "white",
             "linecolor": "white",
             "minorgridcolor": "white",
             "startlinecolor": "#2a3f5f"
            },
            "baxis": {
             "endlinecolor": "#2a3f5f",
             "gridcolor": "white",
             "linecolor": "white",
             "minorgridcolor": "white",
             "startlinecolor": "#2a3f5f"
            },
            "type": "carpet"
           }
          ],
          "choropleth": [
           {
            "colorbar": {
             "outlinewidth": 0,
             "ticks": ""
            },
            "type": "choropleth"
           }
          ],
          "contour": [
           {
            "colorbar": {
             "outlinewidth": 0,
             "ticks": ""
            },
            "colorscale": [
             [
              0,
              "#0d0887"
             ],
             [
              0.1111111111111111,
              "#46039f"
             ],
             [
              0.2222222222222222,
              "#7201a8"
             ],
             [
              0.3333333333333333,
              "#9c179e"
             ],
             [
              0.4444444444444444,
              "#bd3786"
             ],
             [
              0.5555555555555556,
              "#d8576b"
             ],
             [
              0.6666666666666666,
              "#ed7953"
             ],
             [
              0.7777777777777778,
              "#fb9f3a"
             ],
             [
              0.8888888888888888,
              "#fdca26"
             ],
             [
              1,
              "#f0f921"
             ]
            ],
            "type": "contour"
           }
          ],
          "contourcarpet": [
           {
            "colorbar": {
             "outlinewidth": 0,
             "ticks": ""
            },
            "type": "contourcarpet"
           }
          ],
          "heatmap": [
           {
            "colorbar": {
             "outlinewidth": 0,
             "ticks": ""
            },
            "colorscale": [
             [
              0,
              "#0d0887"
             ],
             [
              0.1111111111111111,
              "#46039f"
             ],
             [
              0.2222222222222222,
              "#7201a8"
             ],
             [
              0.3333333333333333,
              "#9c179e"
             ],
             [
              0.4444444444444444,
              "#bd3786"
             ],
             [
              0.5555555555555556,
              "#d8576b"
             ],
             [
              0.6666666666666666,
              "#ed7953"
             ],
             [
              0.7777777777777778,
              "#fb9f3a"
             ],
             [
              0.8888888888888888,
              "#fdca26"
             ],
             [
              1,
              "#f0f921"
             ]
            ],
            "type": "heatmap"
           }
          ],
          "heatmapgl": [
           {
            "colorbar": {
             "outlinewidth": 0,
             "ticks": ""
            },
            "colorscale": [
             [
              0,
              "#0d0887"
             ],
             [
              0.1111111111111111,
              "#46039f"
             ],
             [
              0.2222222222222222,
              "#7201a8"
             ],
             [
              0.3333333333333333,
              "#9c179e"
             ],
             [
              0.4444444444444444,
              "#bd3786"
             ],
             [
              0.5555555555555556,
              "#d8576b"
             ],
             [
              0.6666666666666666,
              "#ed7953"
             ],
             [
              0.7777777777777778,
              "#fb9f3a"
             ],
             [
              0.8888888888888888,
              "#fdca26"
             ],
             [
              1,
              "#f0f921"
             ]
            ],
            "type": "heatmapgl"
           }
          ],
          "histogram": [
           {
            "marker": {
             "pattern": {
              "fillmode": "overlay",
              "size": 10,
              "solidity": 0.2
             }
            },
            "type": "histogram"
           }
          ],
          "histogram2d": [
           {
            "colorbar": {
             "outlinewidth": 0,
             "ticks": ""
            },
            "colorscale": [
             [
              0,
              "#0d0887"
             ],
             [
              0.1111111111111111,
              "#46039f"
             ],
             [
              0.2222222222222222,
              "#7201a8"
             ],
             [
              0.3333333333333333,
              "#9c179e"
             ],
             [
              0.4444444444444444,
              "#bd3786"
             ],
             [
              0.5555555555555556,
              "#d8576b"
             ],
             [
              0.6666666666666666,
              "#ed7953"
             ],
             [
              0.7777777777777778,
              "#fb9f3a"
             ],
             [
              0.8888888888888888,
              "#fdca26"
             ],
             [
              1,
              "#f0f921"
             ]
            ],
            "type": "histogram2d"
           }
          ],
          "histogram2dcontour": [
           {
            "colorbar": {
             "outlinewidth": 0,
             "ticks": ""
            },
            "colorscale": [
             [
              0,
              "#0d0887"
             ],
             [
              0.1111111111111111,
              "#46039f"
             ],
             [
              0.2222222222222222,
              "#7201a8"
             ],
             [
              0.3333333333333333,
              "#9c179e"
             ],
             [
              0.4444444444444444,
              "#bd3786"
             ],
             [
              0.5555555555555556,
              "#d8576b"
             ],
             [
              0.6666666666666666,
              "#ed7953"
             ],
             [
              0.7777777777777778,
              "#fb9f3a"
             ],
             [
              0.8888888888888888,
              "#fdca26"
             ],
             [
              1,
              "#f0f921"
             ]
            ],
            "type": "histogram2dcontour"
           }
          ],
          "mesh3d": [
           {
            "colorbar": {
             "outlinewidth": 0,
             "ticks": ""
            },
            "type": "mesh3d"
           }
          ],
          "parcoords": [
           {
            "line": {
             "colorbar": {
              "outlinewidth": 0,
              "ticks": ""
             }
            },
            "type": "parcoords"
           }
          ],
          "pie": [
           {
            "automargin": true,
            "type": "pie"
           }
          ],
          "scatter": [
           {
            "fillpattern": {
             "fillmode": "overlay",
             "size": 10,
             "solidity": 0.2
            },
            "type": "scatter"
           }
          ],
          "scatter3d": [
           {
            "line": {
             "colorbar": {
              "outlinewidth": 0,
              "ticks": ""
             }
            },
            "marker": {
             "colorbar": {
              "outlinewidth": 0,
              "ticks": ""
             }
            },
            "type": "scatter3d"
           }
          ],
          "scattercarpet": [
           {
            "marker": {
             "colorbar": {
              "outlinewidth": 0,
              "ticks": ""
             }
            },
            "type": "scattercarpet"
           }
          ],
          "scattergeo": [
           {
            "marker": {
             "colorbar": {
              "outlinewidth": 0,
              "ticks": ""
             }
            },
            "type": "scattergeo"
           }
          ],
          "scattergl": [
           {
            "marker": {
             "colorbar": {
              "outlinewidth": 0,
              "ticks": ""
             }
            },
            "type": "scattergl"
           }
          ],
          "scattermapbox": [
           {
            "marker": {
             "colorbar": {
              "outlinewidth": 0,
              "ticks": ""
             }
            },
            "type": "scattermapbox"
           }
          ],
          "scatterpolar": [
           {
            "marker": {
             "colorbar": {
              "outlinewidth": 0,
              "ticks": ""
             }
            },
            "type": "scatterpolar"
           }
          ],
          "scatterpolargl": [
           {
            "marker": {
             "colorbar": {
              "outlinewidth": 0,
              "ticks": ""
             }
            },
            "type": "scatterpolargl"
           }
          ],
          "scatterternary": [
           {
            "marker": {
             "colorbar": {
              "outlinewidth": 0,
              "ticks": ""
             }
            },
            "type": "scatterternary"
           }
          ],
          "surface": [
           {
            "colorbar": {
             "outlinewidth": 0,
             "ticks": ""
            },
            "colorscale": [
             [
              0,
              "#0d0887"
             ],
             [
              0.1111111111111111,
              "#46039f"
             ],
             [
              0.2222222222222222,
              "#7201a8"
             ],
             [
              0.3333333333333333,
              "#9c179e"
             ],
             [
              0.4444444444444444,
              "#bd3786"
             ],
             [
              0.5555555555555556,
              "#d8576b"
             ],
             [
              0.6666666666666666,
              "#ed7953"
             ],
             [
              0.7777777777777778,
              "#fb9f3a"
             ],
             [
              0.8888888888888888,
              "#fdca26"
             ],
             [
              1,
              "#f0f921"
             ]
            ],
            "type": "surface"
           }
          ],
          "table": [
           {
            "cells": {
             "fill": {
              "color": "#EBF0F8"
             },
             "line": {
              "color": "white"
             }
            },
            "header": {
             "fill": {
              "color": "#C8D4E3"
             },
             "line": {
              "color": "white"
             }
            },
            "type": "table"
           }
          ]
         },
         "layout": {
          "annotationdefaults": {
           "arrowcolor": "#2a3f5f",
           "arrowhead": 0,
           "arrowwidth": 1
          },
          "autotypenumbers": "strict",
          "coloraxis": {
           "colorbar": {
            "outlinewidth": 0,
            "ticks": ""
           }
          },
          "colorscale": {
           "diverging": [
            [
             0,
             "#8e0152"
            ],
            [
             0.1,
             "#c51b7d"
            ],
            [
             0.2,
             "#de77ae"
            ],
            [
             0.3,
             "#f1b6da"
            ],
            [
             0.4,
             "#fde0ef"
            ],
            [
             0.5,
             "#f7f7f7"
            ],
            [
             0.6,
             "#e6f5d0"
            ],
            [
             0.7,
             "#b8e186"
            ],
            [
             0.8,
             "#7fbc41"
            ],
            [
             0.9,
             "#4d9221"
            ],
            [
             1,
             "#276419"
            ]
           ],
           "sequential": [
            [
             0,
             "#0d0887"
            ],
            [
             0.1111111111111111,
             "#46039f"
            ],
            [
             0.2222222222222222,
             "#7201a8"
            ],
            [
             0.3333333333333333,
             "#9c179e"
            ],
            [
             0.4444444444444444,
             "#bd3786"
            ],
            [
             0.5555555555555556,
             "#d8576b"
            ],
            [
             0.6666666666666666,
             "#ed7953"
            ],
            [
             0.7777777777777778,
             "#fb9f3a"
            ],
            [
             0.8888888888888888,
             "#fdca26"
            ],
            [
             1,
             "#f0f921"
            ]
           ],
           "sequentialminus": [
            [
             0,
             "#0d0887"
            ],
            [
             0.1111111111111111,
             "#46039f"
            ],
            [
             0.2222222222222222,
             "#7201a8"
            ],
            [
             0.3333333333333333,
             "#9c179e"
            ],
            [
             0.4444444444444444,
             "#bd3786"
            ],
            [
             0.5555555555555556,
             "#d8576b"
            ],
            [
             0.6666666666666666,
             "#ed7953"
            ],
            [
             0.7777777777777778,
             "#fb9f3a"
            ],
            [
             0.8888888888888888,
             "#fdca26"
            ],
            [
             1,
             "#f0f921"
            ]
           ]
          },
          "colorway": [
           "#636efa",
           "#EF553B",
           "#00cc96",
           "#ab63fa",
           "#FFA15A",
           "#19d3f3",
           "#FF6692",
           "#B6E880",
           "#FF97FF",
           "#FECB52"
          ],
          "font": {
           "color": "#2a3f5f"
          },
          "geo": {
           "bgcolor": "white",
           "lakecolor": "white",
           "landcolor": "#E5ECF6",
           "showlakes": true,
           "showland": true,
           "subunitcolor": "white"
          },
          "hoverlabel": {
           "align": "left"
          },
          "hovermode": "closest",
          "mapbox": {
           "style": "light"
          },
          "paper_bgcolor": "white",
          "plot_bgcolor": "#E5ECF6",
          "polar": {
           "angularaxis": {
            "gridcolor": "white",
            "linecolor": "white",
            "ticks": ""
           },
           "bgcolor": "#E5ECF6",
           "radialaxis": {
            "gridcolor": "white",
            "linecolor": "white",
            "ticks": ""
           }
          },
          "scene": {
           "xaxis": {
            "backgroundcolor": "#E5ECF6",
            "gridcolor": "white",
            "gridwidth": 2,
            "linecolor": "white",
            "showbackground": true,
            "ticks": "",
            "zerolinecolor": "white"
           },
           "yaxis": {
            "backgroundcolor": "#E5ECF6",
            "gridcolor": "white",
            "gridwidth": 2,
            "linecolor": "white",
            "showbackground": true,
            "ticks": "",
            "zerolinecolor": "white"
           },
           "zaxis": {
            "backgroundcolor": "#E5ECF6",
            "gridcolor": "white",
            "gridwidth": 2,
            "linecolor": "white",
            "showbackground": true,
            "ticks": "",
            "zerolinecolor": "white"
           }
          },
          "shapedefaults": {
           "line": {
            "color": "#2a3f5f"
           }
          },
          "ternary": {
           "aaxis": {
            "gridcolor": "white",
            "linecolor": "white",
            "ticks": ""
           },
           "baxis": {
            "gridcolor": "white",
            "linecolor": "white",
            "ticks": ""
           },
           "bgcolor": "#E5ECF6",
           "caxis": {
            "gridcolor": "white",
            "linecolor": "white",
            "ticks": ""
           }
          },
          "title": {
           "x": 0.05
          },
          "xaxis": {
           "automargin": true,
           "gridcolor": "white",
           "linecolor": "white",
           "ticks": "",
           "title": {
            "standoff": 15
           },
           "zerolinecolor": "white",
           "zerolinewidth": 2
          },
          "yaxis": {
           "automargin": true,
           "gridcolor": "white",
           "linecolor": "white",
           "ticks": "",
           "title": {
            "standoff": 15
           },
           "zerolinecolor": "white",
           "zerolinewidth": 2
          }
         }
        },
        "title": {
         "text": "Comparison of rating score from users with only one ratign compared to score from users with multiple ratings"
        },
        "xaxis": {
         "anchor": "y",
         "domain": [
          0,
          1
         ],
         "matches": "x2",
         "showticklabels": false,
         "visible": false
        },
        "xaxis2": {
         "anchor": "y2",
         "domain": [
          0,
          1
         ],
         "visible": false
        },
        "yaxis": {
         "anchor": "x",
         "domain": [
          0.5,
          1
         ]
        },
        "yaxis2": {
         "anchor": "x2",
         "domain": [
          0,
          0.5
         ]
        }
       }
      }
     },
     "metadata": {},
     "output_type": "display_data"
    }
   ],
   "source": [
    "#Max threshold that makes sense\n",
    "#threshold = 0.0312\n",
    "threshold = 0.02\n",
    "descripion_only_one_ratings = ['Score distribution from <br> Users with only one rating']\n",
    "descriont_multiple_ratings = ['Score distribution from <br> Users with multiple ratings']\n",
    "colors = px.colors.sequential.Viridis\n",
    "fig = make_subplots(rows=2, cols=1, shared_xaxes=True, vertical_spacing = 0.00)\n",
    "create_stacked_barchart_subplot(fig, threshold, descripion_only_one_ratings, binned_ratings_single_account_percentage, 1, 1, colors, list_of_ratings, True)\n",
    "create_stacked_barchart_subplot(fig, threshold, descriont_multiple_ratings, binned_ratings_without_single_accounts_percentage, 1, 2, colors, list_of_ratings, False)\n",
    "\n",
    "fig.update_layout(barmode='stack')\n",
    "fig.update_layout(title={'text': \"Comparison of rating score from users with only one ratign compared to score from users with multiple ratings\"})\n",
    "fig.update_xaxes(visible=False)\n",
    "fig.update_layout(plot_bgcolor=\"#FFFFFF\")\n",
    "fig.show()"
   ]
  },
  {
   "attachments": {},
   "cell_type": "markdown",
   "metadata": {},
   "source": [
    "We used a dataset from the site movieLens to analyse suspicous non humanly generated acitivity so called bot activiy in movie ratings."
   ]
  },
  {
   "attachments": {},
   "cell_type": "markdown",
   "metadata": {},
   "source": [
    "The dataset contains all their movies, ratings and many more information. We focused us most on the rating data to find those bot acitivties. The rating data contains the user id, the score of the rating, the timestamp of when the rating was submited and which movie the rating belonges to. Each user of movieLens can rate a movie with a score between 0.5 and 5.0 in steps of 0.5 points. This means that each user can rate a movie between a range of 10 scores."
   ]
  },
  {
   "attachments": {},
   "cell_type": "markdown",
   "metadata": {},
   "source": [
    "At first we thoutght about our own experience on social media. A lot of suspicous account on sites like instagram have low activities. We guess it has to do with the detection of suspicous acitivies. If you have a lot of activity it is easyer to find patterns in the usage. Our guess was that the hosts of the websites already monitor the activity of each user and ban those suspicous users themselve.\n",
    "\n",
    "With that logic we created our theorie. Our theorie was: \"Users which rated only one movie are manly bots\".\n",
    "\n",
    "To prove this theory our goal was to analyzed all the data of users with one rating.\n",
    "At first we filtered out all the ratings, which came from users with only one rating. We were suprised by the result. Of the over 27 Million ratings in total only 5'620 of ratings came from users which only left one rating. This means in a worst case cenario only 0.02% of the ratings on MovieLens could potentially be from bot activity after our theorie. So if our theorie would turn out true we could prove that. This result already made us sceptic and there was two options on why this was the case. Firstly our theorie turns out tu be true and the site could have a low amount of bots. This would mean that the bot activity on the site movieLens doesn't have a profound impact on the ratings which would be a great conclusion. Secondly it could mean that our theorie was completely wrong and there is no corelation between accounts with only one rating and bot activity.\n",
    "So the next step to prove or disprove our theorie we looked deeper into the data and compared the rating scores of the ratings from the users with one rating to the users with multiple ratings. We expected to find more extrem ratings in the sense of extrem negative like 0.5 and 1.0 or extreme positive like 5.0 or 4.5. The reason behind that logic would be, that the incentive to create botted ratings would be to push the movie you have some kind of relation to up for your personal gain or to push other competing movies down to look better in comparison.\n",
    "To compare those two metrics we have decided to make a horizontal stacked barchart for each class. On the x axes there are the percentage of each rating group and on the y axes are the two categories \"user with only one rating\" and \"user with multiple ratings\".  This gives us an interesting insight into the data. We can clearly see that there is a strogn deviation for the score 5.0 and 0.5. The probabillity of a 5.0 rating is more then double for the users with only one ratin then there the probabillity of 5.0 rating for the users with multiple ratings. On the other extrem the 0.5 ratings are less conclusive. The probabillity is nearly double for the ratings from users with one rating comapred to the ratings from users with multiple ratings but the prbabillity for 0.5 ratings are in both cases low."
   ]
  },
  {
   "attachments": {},
   "cell_type": "markdown",
   "metadata": {},
   "source": [
    "The previous graph defenetly gave us interesting insights, but it wasn't conclusive enough to neither prover nor disprove our theorie. Becuase of that we took further investigation into the timline of when those ratings were submitted. As we thought botted ratings and manupulation is a more recent activity that maybe started 5 to 10 years ago. To get prove about our thought we searched for  proof.  We looked into google trends, which collects data about how many searches in google have de given search term. We have tried diffrent terms and got the best data with the search term \"fake rating\". Obviously this term is wide and is not limited to the website movieLens and is neither limited to movie ratings but it was the narrowest term that had enough data to show a trend. The data from google trends startet at 2004 but the values before August 2010 are not conclusive enough because there are a lot of short term spikes in single months where the month before and after goes  to 0. We decided to show the trend in a barchart grouped by years so we took the year from 2011 to 2017 which is the last year the movieLens data ranges from the first day to the last of the year.\n",
    "Grouping it by years midigates the variotons which it has from the small size of the dataset."
   ]
  },
  {
   "attachments": {},
   "cell_type": "markdown",
   "metadata": {},
   "source": [
    "In addition to the google trends data we looked into the growth of the ratings from users witho only one rating. To reduce the complexity of the graph we decided to plot the diffrence between the yearly growth in percentage of ratings from users with only one rating subtrakted by the yearly growth of all ratings. "
   ]
  },
  {
   "attachments": {},
   "cell_type": "markdown",
   "metadata": {},
   "source": [
    "Looking at the first graph that compares the amount of ratings from users with only one rating there is a clear corelation between the rise in 2015 of search traffic for the term \"fake rating\" and the growth of those ratings. These gave us a lot of hope, that we are on something. But the second graph that compares the growth of those ratings to all ratings tells an complete other story. 2015 was by far the worst year in growth of those ratigns compared to all ratings. The ratings of users with only one rating, like shown on the left graph, grew that year but all ratings outgrew them by over 150%. This means that the ration of all ratings to ratings from users with only rating declined 2015 and 2016. "
   ]
  },
  {
   "attachments": {},
   "cell_type": "markdown",
   "metadata": {},
   "source": [
    "To conclude our research the theory: \"Users which rated only one movie are manly bots\" is false. We have looked into all metrics that was given to us and there were no sigificant deviation on patterns in the data, that proved our theory. The score was on average better but not in a significant way and all ratings from users with only one rating was only made 0.02% of all ratings. Furthermore there was no significant growth over the year and the only outlier in our analysis was a decline of growth of those ratings compared to the growth of all ratings in 2015."
   ]
  },
  {
   "attachments": {},
   "cell_type": "markdown",
   "metadata": {},
   "source": [
    "After that analysis we decided on building a new theory. Acutually this theory was the compelte opposite of the previous theory."
   ]
  }
 ],
 "metadata": {
  "kernelspec": {
   "display_name": "dviz",
   "language": "python",
   "name": "python3"
  },
  "language_info": {
   "codemirror_mode": {
    "name": "ipython",
    "version": 3
   },
   "file_extension": ".py",
   "mimetype": "text/x-python",
   "name": "python",
   "nbconvert_exporter": "python",
   "pygments_lexer": "ipython3",
   "version": "3.10.6"
  },
  "orig_nbformat": 4,
  "vscode": {
   "interpreter": {
    "hash": "acc9a91b6998de036ca9c194e26b210da4c2e06b7cf5d9e1b42b0f3f179806fe"
   }
  }
 },
 "nbformat": 4,
 "nbformat_minor": 2
}
