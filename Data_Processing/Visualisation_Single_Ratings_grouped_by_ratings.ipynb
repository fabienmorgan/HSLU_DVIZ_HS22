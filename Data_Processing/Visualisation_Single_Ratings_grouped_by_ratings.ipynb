{
 "cells": [
  {
   "cell_type": "code",
   "execution_count": null,
   "metadata": {},
   "outputs": [],
   "source": [
    "import pandas as pd\n",
    "import plotly.graph_objects as go\n",
    "import plotly.express as px"
   ]
  },
  {
   "cell_type": "code",
   "execution_count": null,
   "metadata": {},
   "outputs": [],
   "source": [
    "all_ratings = pd.read_csv('data/all_ratings.csv')\n",
    "ratings_single_account = pd.read_csv('data/ratings_single_account.csv')\n",
    "movies_with_ratings_single_account = pd.read_csv('data/movies_single_account.csv')"
   ]
  },
  {
   "cell_type": "code",
   "execution_count": null,
   "metadata": {},
   "outputs": [],
   "source": [
    "all_ratings.head()"
   ]
  },
  {
   "cell_type": "code",
   "execution_count": null,
   "metadata": {},
   "outputs": [],
   "source": [
    "len(all_ratings)"
   ]
  },
  {
   "cell_type": "code",
   "execution_count": null,
   "metadata": {},
   "outputs": [],
   "source": [
    "ratings_single_account.head()"
   ]
  },
  {
   "cell_type": "code",
   "execution_count": null,
   "metadata": {},
   "outputs": [],
   "source": [
    "len(ratings_single_account)"
   ]
  },
  {
   "cell_type": "code",
   "execution_count": null,
   "metadata": {},
   "outputs": [],
   "source": [
    "movies_with_ratings_single_account.head()"
   ]
  },
  {
   "cell_type": "code",
   "execution_count": null,
   "metadata": {},
   "outputs": [],
   "source": [
    "len(movies_with_ratings_single_account)"
   ]
  },
  {
   "cell_type": "code",
   "execution_count": null,
   "metadata": {},
   "outputs": [],
   "source": [
    "def return_list_of_binned_ratings(list_of_ratings, ratings):\n",
    "    ratings_for_movie_binned_lst = len(list_of_ratings) * [0]\n",
    "    \n",
    "    for rating in ratings:\n",
    "        index = list_of_ratings.index(rating)\n",
    "        ratings_for_movie_binned_lst[index] += 1\n",
    "\n",
    "    return dict(zip(list_of_ratings,ratings_for_movie_binned_lst))"
   ]
  },
  {
   "cell_type": "code",
   "execution_count": null,
   "metadata": {},
   "outputs": [],
   "source": [
    "#ratings_without_single_account = \n",
    "common = all_ratings.merge(ratings_single_account,on=['rating_id'])\n",
    "#print(common)\n",
    "ratings_without_single_account = all_ratings[~all_ratings.rating_id.isin(common.rating_id)]\n",
    "print(f'Die Zahl der Beiden listen Zusammenaddiert: {len(ratings_without_single_account) + len(ratings_single_account)} sollte mit der Zahl der ganzen Liste {len(all_ratings)} übereinstimmen')\n",
    "ratings_without_single_account.head()"
   ]
  },
  {
   "cell_type": "code",
   "execution_count": null,
   "metadata": {},
   "outputs": [],
   "source": [
    "list_of_ratings = [5.0, 4.5, 4.0, 3.5, 3.0, 2.5, 2.0, 1.5, 1.0, 0.5]  \n",
    "list_of_ratings = list_of_ratings[::-1]\n",
    "\n",
    "binned_ratings_single_account = return_list_of_binned_ratings(list_of_ratings, ratings_single_account['rating'])\n",
    "binned_ratings_without_single_accounts = return_list_of_binned_ratings(list_of_ratings, ratings_without_single_account['rating'])"
   ]
  },
  {
   "cell_type": "code",
   "execution_count": null,
   "metadata": {},
   "outputs": [],
   "source": [
    "print(binned_ratings_single_account)\n",
    "print(binned_ratings_without_single_accounts)"
   ]
  },
  {
   "cell_type": "code",
   "execution_count": null,
   "metadata": {},
   "outputs": [],
   "source": [
    "binned_ratings_single_account_percentage = {k: v / len(ratings_single_account) for k, v in binned_ratings_single_account.items()}\n",
    "binned_ratings_without_single_accounts_percentage = {k: v / len(ratings_without_single_account) for k, v in binned_ratings_without_single_accounts.items()}"
   ]
  },
  {
   "cell_type": "code",
   "execution_count": null,
   "metadata": {},
   "outputs": [],
   "source": [
    "print(binned_ratings_single_account_percentage)\n",
    "print(binned_ratings_without_single_accounts_percentage)"
   ]
  },
  {
   "cell_type": "code",
   "execution_count": null,
   "metadata": {},
   "outputs": [],
   "source": [
    "y = ['Ratings from Users with only one rating', 'Ratings from Users with multiple ratings']\n",
    "i = 0\n",
    "colors = px.colors.sequential.Viridis\n",
    "fig = go.Figure(go.Bar(orientation='v'))\n",
    "for rating in list_of_ratings:\n",
    "    fig.add_trace(go.Bar(y=y,\n",
    "        x=[binned_ratings_single_account_percentage[rating],\n",
    "        binned_ratings_without_single_accounts_percentage[rating]],\n",
    "        name=f'{rating} Points',\n",
    "        orientation='h',\n",
    "        marker_color=colors[i]))\n",
    "    i += 1\n",
    "\n",
    "fig.update_layout(barmode='stack')\n",
    "#fig.update_traces(marker=dict(color=colors, line=dict(color='#000000', width=2)))\n",
    "fig.show()"
   ]
  },
  {
   "cell_type": "code",
   "execution_count": null,
   "metadata": {},
   "outputs": [],
   "source": [
    "import bigpp"
   ]
  }
 ],
 "metadata": {
  "kernelspec": {
   "display_name": "python39",
   "language": "python",
   "name": "python3"
  },
  "language_info": {
   "codemirror_mode": {
    "name": "ipython",
    "version": 3
   },
   "file_extension": ".py",
   "mimetype": "text/x-python",
   "name": "python",
   "nbconvert_exporter": "python",
   "pygments_lexer": "ipython3",
   "version": "3.9.7"
  },
  "orig_nbformat": 4,
  "vscode": {
   "interpreter": {
    "hash": "39793516f4441a8b04b5ee4c4bb0b29071a4222af94f6286a80290f9beef3d46"
   }
  }
 },
 "nbformat": 4,
 "nbformat_minor": 2
}
