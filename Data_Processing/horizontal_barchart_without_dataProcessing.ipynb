{
 "cells": [
  {
   "cell_type": "code",
   "execution_count": 18,
   "metadata": {},
   "outputs": [],
   "source": [
    "import pandas as pd\n",
    "import plotly.graph_objects as go\n",
    "import plotly.express as px\n",
    "from plotly.subplots import make_subplots"
   ]
  },
  {
   "cell_type": "code",
   "execution_count": 19,
   "metadata": {},
   "outputs": [],
   "source": [
    "list_of_ratings = [5.0, 4.5, 4.0, 3.5, 3.0, 2.5, 2.0, 1.5, 1.0, 0.5]  \n",
    "\n",
    "binned_ratings_single_account_percentage = pd.read_csv('data/data_visualizations/horizontal_stacked_barchart_single_rating.csv').to_dict()\n",
    "binned_ratings_without_single_accounts_percentage = pd.read_csv('data/data_visualizations/horizontal_stacked_barchart_multi_rating.csv').to_dict()\n",
    "\n",
    "binned_ratings_single_account_percentage = dict(zip(list(binned_ratings_single_account_percentage['score'].values()), list(binned_ratings_single_account_percentage['value'].values())))\n",
    "binned_ratings_without_single_accounts_percentage = dict(zip(list(binned_ratings_without_single_accounts_percentage['score'].values()), list(binned_ratings_without_single_accounts_percentage['value'].values())))"
   ]
  },
  {
   "cell_type": "code",
   "execution_count": 20,
   "metadata": {},
   "outputs": [],
   "source": [
    "def calcuate_position_outside_annotations(dict_of_stacked_elements, list_of_ratings, threshold):\n",
    "    sum = 0\n",
    "    dict_position_to_small_ratings = {}\n",
    "    for rating in list_of_ratings:\n",
    "        if dict_of_stacked_elements[rating] >= threshold:\n",
    "            sum += dict_of_stacked_elements[rating]\n",
    "        else:\n",
    "            dict_position_to_small_ratings[rating] = sum + (dict_of_stacked_elements[rating] / 2)\n",
    "            sum += dict_of_stacked_elements[rating]\n",
    "\n",
    "    return dict_position_to_small_ratings"
   ]
  },
  {
   "cell_type": "code",
   "execution_count": 21,
   "metadata": {},
   "outputs": [],
   "source": [
    "def create_stacked_barchart_subplot(figure, threshold, description, list_with_content, position_x, position_y, colors, list_of_ratings, text_over):\n",
    "    if text_over:\n",
    "        y_offset = 0.5\n",
    "    else:\n",
    "        y_offset = -0.5\n",
    "\n",
    "    traces = []\n",
    "    for i, rating in enumerate(list_of_ratings):\n",
    "        text = 'inside' if list_with_content[rating] > threshold else 'none'\n",
    "\n",
    "        trace = go.Bar(y=description,\n",
    "                        x=[list_with_content[rating]],\n",
    "                        name=f'{rating}',\n",
    "                        showlegend=False,\n",
    "                        orientation='h',\n",
    "                        textangle=0,\n",
    "                        marker_color=colors[i],\n",
    "                        textposition=text,\n",
    "                        text=rating,\n",
    "                        insidetextanchor='middle',\n",
    "                        hovertemplate='Percentage of score '+ str(rating) +': '+ str(round(list_with_content[rating] * 100, 2)) +'%' +\n",
    "                        \"<extra></extra>\")\n",
    "        traces.append(trace)\n",
    "\n",
    "    position_to_small_content = calcuate_position_outside_annotations(list_with_content, list_of_ratings, threshold)\n",
    "\n",
    "    for rating in position_to_small_content:\n",
    "        figure.add_annotation(x=position_to_small_content[rating], y=y_offset,\n",
    "                            text=rating,\n",
    "                            showarrow=False,\n",
    "                            xref=f'x{position_x}',\n",
    "                            yref=f'y{position_y}')\n",
    "    \n",
    "    figure.add_traces(traces, position_y, position_x)"
   ]
  },
  {
   "cell_type": "code",
   "execution_count": 22,
   "metadata": {},
   "outputs": [
    {
     "data": {
      "application/vnd.plotly.v1+json": {
       "config": {
        "plotlyServerURL": "https://plot.ly"
       },
       "data": [
        {
         "hovertemplate": "Percentage of score 5.0: 32.26%<extra></extra>",
         "insidetextanchor": "middle",
         "marker": {
          "color": "#440154"
         },
         "name": "5.0",
         "orientation": "h",
         "showlegend": false,
         "text": "5.0",
         "textangle": 0,
         "textposition": "inside",
         "type": "bar",
         "x": [
          0.3225978647686833
         ],
         "xaxis": "x",
         "y": [
          "Score distribution from <br> Users with only one rating"
         ],
         "yaxis": "y"
        },
        {
         "hovertemplate": "Percentage of score 4.5: 8.81%<extra></extra>",
         "insidetextanchor": "middle",
         "marker": {
          "color": "#482878"
         },
         "name": "4.5",
         "orientation": "h",
         "showlegend": false,
         "text": "4.5",
         "textangle": 0,
         "textposition": "inside",
         "type": "bar",
         "x": [
          0.0880782918149466
         ],
         "xaxis": "x",
         "y": [
          "Score distribution from <br> Users with only one rating"
         ],
         "yaxis": "y"
        },
        {
         "hovertemplate": "Percentage of score 4.0: 22.85%<extra></extra>",
         "insidetextanchor": "middle",
         "marker": {
          "color": "#3e4989"
         },
         "name": "4.0",
         "orientation": "h",
         "showlegend": false,
         "text": "4.0",
         "textangle": 0,
         "textposition": "inside",
         "type": "bar",
         "x": [
          0.2284697508896797
         ],
         "xaxis": "x",
         "y": [
          "Score distribution from <br> Users with only one rating"
         ],
         "yaxis": "y"
        },
        {
         "hovertemplate": "Percentage of score 3.5: 7.86%<extra></extra>",
         "insidetextanchor": "middle",
         "marker": {
          "color": "#31688e"
         },
         "name": "3.5",
         "orientation": "h",
         "showlegend": false,
         "text": "3.5",
         "textangle": 0,
         "textposition": "inside",
         "type": "bar",
         "x": [
          0.0786476868327402
         ],
         "xaxis": "x",
         "y": [
          "Score distribution from <br> Users with only one rating"
         ],
         "yaxis": "y"
        },
        {
         "hovertemplate": "Percentage of score 3.0: 12.7%<extra></extra>",
         "insidetextanchor": "middle",
         "marker": {
          "color": "#26828e"
         },
         "name": "3.0",
         "orientation": "h",
         "showlegend": false,
         "text": "3.0",
         "textangle": 0,
         "textposition": "inside",
         "type": "bar",
         "x": [
          0.1270462633451957
         ],
         "xaxis": "x",
         "y": [
          "Score distribution from <br> Users with only one rating"
         ],
         "yaxis": "y"
        },
        {
         "hovertemplate": "Percentage of score 2.5: 3.11%<extra></extra>",
         "insidetextanchor": "middle",
         "marker": {
          "color": "#1f9e89"
         },
         "name": "2.5",
         "orientation": "h",
         "showlegend": false,
         "text": "2.5",
         "textangle": 0,
         "textposition": "inside",
         "type": "bar",
         "x": [
          0.0311387900355871
         ],
         "xaxis": "x",
         "y": [
          "Score distribution from <br> Users with only one rating"
         ],
         "yaxis": "y"
        },
        {
         "hovertemplate": "Percentage of score 2.0: 4.54%<extra></extra>",
         "insidetextanchor": "middle",
         "marker": {
          "color": "#35b779"
         },
         "name": "2.0",
         "orientation": "h",
         "showlegend": false,
         "text": "2.0",
         "textangle": 0,
         "textposition": "inside",
         "type": "bar",
         "x": [
          0.045373665480427
         ],
         "xaxis": "x",
         "y": [
          "Score distribution from <br> Users with only one rating"
         ],
         "yaxis": "y"
        },
        {
         "hovertemplate": "Percentage of score 1.5: 1.49%<extra></extra>",
         "insidetextanchor": "middle",
         "marker": {
          "color": "#6ece58"
         },
         "name": "1.5",
         "orientation": "h",
         "showlegend": false,
         "text": "1.5",
         "textangle": 0,
         "textposition": "none",
         "type": "bar",
         "x": [
          0.0149466192170818
         ],
         "xaxis": "x",
         "y": [
          "Score distribution from <br> Users with only one rating"
         ],
         "yaxis": "y"
        },
        {
         "hovertemplate": "Percentage of score 1.0: 3.45%<extra></extra>",
         "insidetextanchor": "middle",
         "marker": {
          "color": "#b5de2b"
         },
         "name": "1.0",
         "orientation": "h",
         "showlegend": false,
         "text": "1.0",
         "textangle": 0,
         "textposition": "inside",
         "type": "bar",
         "x": [
          0.0345195729537366
         ],
         "xaxis": "x",
         "y": [
          "Score distribution from <br> Users with only one rating"
         ],
         "yaxis": "y"
        },
        {
         "hovertemplate": "Percentage of score 0.5: 2.92%<extra></extra>",
         "insidetextanchor": "middle",
         "marker": {
          "color": "#fde725"
         },
         "name": "0.5",
         "orientation": "h",
         "showlegend": false,
         "text": "0.5",
         "textangle": 0,
         "textposition": "inside",
         "type": "bar",
         "x": [
          0.0291814946619217
         ],
         "xaxis": "x",
         "y": [
          "Score distribution from <br> Users with only one rating"
         ],
         "yaxis": "y"
        },
        {
         "hovertemplate": "Percentage of score 5.0: 14.67%<extra></extra>",
         "insidetextanchor": "middle",
         "marker": {
          "color": "#440154"
         },
         "name": "5.0",
         "orientation": "h",
         "showlegend": false,
         "text": "5.0",
         "textangle": 0,
         "textposition": "inside",
         "type": "bar",
         "x": [
          0.1466537340009076
         ],
         "xaxis": "x2",
         "y": [
          "Score distribution from <br> Users with multiple ratings"
         ],
         "yaxis": "y2"
        },
        {
         "hovertemplate": "Percentage of score 4.5: 8.55%<extra></extra>",
         "insidetextanchor": "middle",
         "marker": {
          "color": "#482878"
         },
         "name": "4.5",
         "orientation": "h",
         "showlegend": false,
         "text": "4.5",
         "textangle": 0,
         "textposition": "inside",
         "type": "bar",
         "x": [
          0.0855222016688588
         ],
         "xaxis": "x2",
         "y": [
          "Score distribution from <br> Users with multiple ratings"
         ],
         "yaxis": "y2"
        },
        {
         "hovertemplate": "Percentage of score 4.0: 26.65%<extra></extra>",
         "insidetextanchor": "middle",
         "marker": {
          "color": "#3e4989"
         },
         "name": "4.0",
         "orientation": "h",
         "showlegend": false,
         "text": "4.0",
         "textangle": 0,
         "textposition": "inside",
         "type": "bar",
         "x": [
          0.2664506593381881
         ],
         "xaxis": "x2",
         "y": [
          "Score distribution from <br> Users with multiple ratings"
         ],
         "yaxis": "y2"
        },
        {
         "hovertemplate": "Percentage of score 3.5: 12.27%<extra></extra>",
         "insidetextanchor": "middle",
         "marker": {
          "color": "#31688e"
         },
         "name": "3.5",
         "orientation": "h",
         "showlegend": false,
         "text": "3.5",
         "textangle": 0,
         "textposition": "inside",
         "type": "bar",
         "x": [
          0.1226733310691317
         ],
         "xaxis": "x2",
         "y": [
          "Score distribution from <br> Users with multiple ratings"
         ],
         "yaxis": "y2"
        },
        {
         "hovertemplate": "Percentage of score 3.0: 19.88%<extra></extra>",
         "insidetextanchor": "middle",
         "marker": {
          "color": "#26828e"
         },
         "name": "3.0",
         "orientation": "h",
         "showlegend": false,
         "text": "3.0",
         "textangle": 0,
         "textposition": "inside",
         "type": "bar",
         "x": [
          0.1987526661550109
         ],
         "xaxis": "x2",
         "y": [
          "Score distribution from <br> Users with multiple ratings"
         ],
         "yaxis": "y2"
        },
        {
         "hovertemplate": "Percentage of score 2.5: 4.95%<extra></extra>",
         "insidetextanchor": "middle",
         "marker": {
          "color": "#1f9e89"
         },
         "name": "2.5",
         "orientation": "h",
         "showlegend": false,
         "text": "2.5",
         "textangle": 0,
         "textposition": "inside",
         "type": "bar",
         "x": [
          0.0494901510114811
         ],
         "xaxis": "x2",
         "y": [
          "Score distribution from <br> Users with multiple ratings"
         ],
         "yaxis": "y2"
        },
        {
         "hovertemplate": "Percentage of score 2.0: 6.67%<extra></extra>",
         "insidetextanchor": "middle",
         "marker": {
          "color": "#35b779"
         },
         "name": "2.0",
         "orientation": "h",
         "showlegend": false,
         "text": "2.0",
         "textangle": 0,
         "textposition": "inside",
         "type": "bar",
         "x": [
          0.0666853011609126
         ],
         "xaxis": "x2",
         "y": [
          "Score distribution from <br> Users with multiple ratings"
         ],
         "yaxis": "y2"
        },
        {
         "hovertemplate": "Percentage of score 1.5: 1.59%<extra></extra>",
         "insidetextanchor": "middle",
         "marker": {
          "color": "#6ece58"
         },
         "name": "1.5",
         "orientation": "h",
         "showlegend": false,
         "text": "1.5",
         "textangle": 0,
         "textposition": "none",
         "type": "bar",
         "x": [
          0.0159028686357532
         ],
         "xaxis": "x2",
         "y": [
          "Score distribution from <br> Users with multiple ratings"
         ],
         "yaxis": "y2"
        },
        {
         "hovertemplate": "Percentage of score 1.0: 3.19%<extra></extra>",
         "insidetextanchor": "middle",
         "marker": {
          "color": "#b5de2b"
         },
         "name": "1.0",
         "orientation": "h",
         "showlegend": false,
         "text": "1.0",
         "textangle": 0,
         "textposition": "inside",
         "type": "bar",
         "x": [
          0.0319318372496524
         ],
         "xaxis": "x2",
         "y": [
          "Score distribution from <br> Users with multiple ratings"
         ],
         "yaxis": "y2"
        },
        {
         "hovertemplate": "Percentage of score 0.5: 1.59%<extra></extra>",
         "insidetextanchor": "middle",
         "marker": {
          "color": "#fde725"
         },
         "name": "0.5",
         "orientation": "h",
         "showlegend": false,
         "text": "0.5",
         "textangle": 0,
         "textposition": "none",
         "type": "bar",
         "x": [
          0.0159372497101033
         ],
         "xaxis": "x2",
         "y": [
          "Score distribution from <br> Users with multiple ratings"
         ],
         "yaxis": "y2"
        }
       ],
       "layout": {
        "annotations": [
         {
          "showarrow": false,
          "text": "1.5",
          "x": 0.9288256227758004,
          "xref": "x",
          "y": 0.5,
          "yref": "y"
         },
         {
          "showarrow": false,
          "text": "1.5",
          "x": 0.9441794787223674,
          "xref": "x",
          "y": -0.5,
          "yref": "y2"
         },
         {
          "showarrow": false,
          "text": "0.5",
          "x": 0.9920313751449481,
          "xref": "x",
          "y": -0.5,
          "yref": "y2"
         }
        ],
        "barmode": "stack",
        "plot_bgcolor": "#FFFFFF",
        "template": {
         "data": {
          "bar": [
           {
            "error_x": {
             "color": "#2a3f5f"
            },
            "error_y": {
             "color": "#2a3f5f"
            },
            "marker": {
             "line": {
              "color": "#E5ECF6",
              "width": 0.5
             },
             "pattern": {
              "fillmode": "overlay",
              "size": 10,
              "solidity": 0.2
             }
            },
            "type": "bar"
           }
          ],
          "barpolar": [
           {
            "marker": {
             "line": {
              "color": "#E5ECF6",
              "width": 0.5
             },
             "pattern": {
              "fillmode": "overlay",
              "size": 10,
              "solidity": 0.2
             }
            },
            "type": "barpolar"
           }
          ],
          "carpet": [
           {
            "aaxis": {
             "endlinecolor": "#2a3f5f",
             "gridcolor": "white",
             "linecolor": "white",
             "minorgridcolor": "white",
             "startlinecolor": "#2a3f5f"
            },
            "baxis": {
             "endlinecolor": "#2a3f5f",
             "gridcolor": "white",
             "linecolor": "white",
             "minorgridcolor": "white",
             "startlinecolor": "#2a3f5f"
            },
            "type": "carpet"
           }
          ],
          "choropleth": [
           {
            "colorbar": {
             "outlinewidth": 0,
             "ticks": ""
            },
            "type": "choropleth"
           }
          ],
          "contour": [
           {
            "colorbar": {
             "outlinewidth": 0,
             "ticks": ""
            },
            "colorscale": [
             [
              0,
              "#0d0887"
             ],
             [
              0.1111111111111111,
              "#46039f"
             ],
             [
              0.2222222222222222,
              "#7201a8"
             ],
             [
              0.3333333333333333,
              "#9c179e"
             ],
             [
              0.4444444444444444,
              "#bd3786"
             ],
             [
              0.5555555555555556,
              "#d8576b"
             ],
             [
              0.6666666666666666,
              "#ed7953"
             ],
             [
              0.7777777777777778,
              "#fb9f3a"
             ],
             [
              0.8888888888888888,
              "#fdca26"
             ],
             [
              1,
              "#f0f921"
             ]
            ],
            "type": "contour"
           }
          ],
          "contourcarpet": [
           {
            "colorbar": {
             "outlinewidth": 0,
             "ticks": ""
            },
            "type": "contourcarpet"
           }
          ],
          "heatmap": [
           {
            "colorbar": {
             "outlinewidth": 0,
             "ticks": ""
            },
            "colorscale": [
             [
              0,
              "#0d0887"
             ],
             [
              0.1111111111111111,
              "#46039f"
             ],
             [
              0.2222222222222222,
              "#7201a8"
             ],
             [
              0.3333333333333333,
              "#9c179e"
             ],
             [
              0.4444444444444444,
              "#bd3786"
             ],
             [
              0.5555555555555556,
              "#d8576b"
             ],
             [
              0.6666666666666666,
              "#ed7953"
             ],
             [
              0.7777777777777778,
              "#fb9f3a"
             ],
             [
              0.8888888888888888,
              "#fdca26"
             ],
             [
              1,
              "#f0f921"
             ]
            ],
            "type": "heatmap"
           }
          ],
          "heatmapgl": [
           {
            "colorbar": {
             "outlinewidth": 0,
             "ticks": ""
            },
            "colorscale": [
             [
              0,
              "#0d0887"
             ],
             [
              0.1111111111111111,
              "#46039f"
             ],
             [
              0.2222222222222222,
              "#7201a8"
             ],
             [
              0.3333333333333333,
              "#9c179e"
             ],
             [
              0.4444444444444444,
              "#bd3786"
             ],
             [
              0.5555555555555556,
              "#d8576b"
             ],
             [
              0.6666666666666666,
              "#ed7953"
             ],
             [
              0.7777777777777778,
              "#fb9f3a"
             ],
             [
              0.8888888888888888,
              "#fdca26"
             ],
             [
              1,
              "#f0f921"
             ]
            ],
            "type": "heatmapgl"
           }
          ],
          "histogram": [
           {
            "marker": {
             "pattern": {
              "fillmode": "overlay",
              "size": 10,
              "solidity": 0.2
             }
            },
            "type": "histogram"
           }
          ],
          "histogram2d": [
           {
            "colorbar": {
             "outlinewidth": 0,
             "ticks": ""
            },
            "colorscale": [
             [
              0,
              "#0d0887"
             ],
             [
              0.1111111111111111,
              "#46039f"
             ],
             [
              0.2222222222222222,
              "#7201a8"
             ],
             [
              0.3333333333333333,
              "#9c179e"
             ],
             [
              0.4444444444444444,
              "#bd3786"
             ],
             [
              0.5555555555555556,
              "#d8576b"
             ],
             [
              0.6666666666666666,
              "#ed7953"
             ],
             [
              0.7777777777777778,
              "#fb9f3a"
             ],
             [
              0.8888888888888888,
              "#fdca26"
             ],
             [
              1,
              "#f0f921"
             ]
            ],
            "type": "histogram2d"
           }
          ],
          "histogram2dcontour": [
           {
            "colorbar": {
             "outlinewidth": 0,
             "ticks": ""
            },
            "colorscale": [
             [
              0,
              "#0d0887"
             ],
             [
              0.1111111111111111,
              "#46039f"
             ],
             [
              0.2222222222222222,
              "#7201a8"
             ],
             [
              0.3333333333333333,
              "#9c179e"
             ],
             [
              0.4444444444444444,
              "#bd3786"
             ],
             [
              0.5555555555555556,
              "#d8576b"
             ],
             [
              0.6666666666666666,
              "#ed7953"
             ],
             [
              0.7777777777777778,
              "#fb9f3a"
             ],
             [
              0.8888888888888888,
              "#fdca26"
             ],
             [
              1,
              "#f0f921"
             ]
            ],
            "type": "histogram2dcontour"
           }
          ],
          "mesh3d": [
           {
            "colorbar": {
             "outlinewidth": 0,
             "ticks": ""
            },
            "type": "mesh3d"
           }
          ],
          "parcoords": [
           {
            "line": {
             "colorbar": {
              "outlinewidth": 0,
              "ticks": ""
             }
            },
            "type": "parcoords"
           }
          ],
          "pie": [
           {
            "automargin": true,
            "type": "pie"
           }
          ],
          "scatter": [
           {
            "fillpattern": {
             "fillmode": "overlay",
             "size": 10,
             "solidity": 0.2
            },
            "type": "scatter"
           }
          ],
          "scatter3d": [
           {
            "line": {
             "colorbar": {
              "outlinewidth": 0,
              "ticks": ""
             }
            },
            "marker": {
             "colorbar": {
              "outlinewidth": 0,
              "ticks": ""
             }
            },
            "type": "scatter3d"
           }
          ],
          "scattercarpet": [
           {
            "marker": {
             "colorbar": {
              "outlinewidth": 0,
              "ticks": ""
             }
            },
            "type": "scattercarpet"
           }
          ],
          "scattergeo": [
           {
            "marker": {
             "colorbar": {
              "outlinewidth": 0,
              "ticks": ""
             }
            },
            "type": "scattergeo"
           }
          ],
          "scattergl": [
           {
            "marker": {
             "colorbar": {
              "outlinewidth": 0,
              "ticks": ""
             }
            },
            "type": "scattergl"
           }
          ],
          "scattermapbox": [
           {
            "marker": {
             "colorbar": {
              "outlinewidth": 0,
              "ticks": ""
             }
            },
            "type": "scattermapbox"
           }
          ],
          "scatterpolar": [
           {
            "marker": {
             "colorbar": {
              "outlinewidth": 0,
              "ticks": ""
             }
            },
            "type": "scatterpolar"
           }
          ],
          "scatterpolargl": [
           {
            "marker": {
             "colorbar": {
              "outlinewidth": 0,
              "ticks": ""
             }
            },
            "type": "scatterpolargl"
           }
          ],
          "scatterternary": [
           {
            "marker": {
             "colorbar": {
              "outlinewidth": 0,
              "ticks": ""
             }
            },
            "type": "scatterternary"
           }
          ],
          "surface": [
           {
            "colorbar": {
             "outlinewidth": 0,
             "ticks": ""
            },
            "colorscale": [
             [
              0,
              "#0d0887"
             ],
             [
              0.1111111111111111,
              "#46039f"
             ],
             [
              0.2222222222222222,
              "#7201a8"
             ],
             [
              0.3333333333333333,
              "#9c179e"
             ],
             [
              0.4444444444444444,
              "#bd3786"
             ],
             [
              0.5555555555555556,
              "#d8576b"
             ],
             [
              0.6666666666666666,
              "#ed7953"
             ],
             [
              0.7777777777777778,
              "#fb9f3a"
             ],
             [
              0.8888888888888888,
              "#fdca26"
             ],
             [
              1,
              "#f0f921"
             ]
            ],
            "type": "surface"
           }
          ],
          "table": [
           {
            "cells": {
             "fill": {
              "color": "#EBF0F8"
             },
             "line": {
              "color": "white"
             }
            },
            "header": {
             "fill": {
              "color": "#C8D4E3"
             },
             "line": {
              "color": "white"
             }
            },
            "type": "table"
           }
          ]
         },
         "layout": {
          "annotationdefaults": {
           "arrowcolor": "#2a3f5f",
           "arrowhead": 0,
           "arrowwidth": 1
          },
          "autotypenumbers": "strict",
          "coloraxis": {
           "colorbar": {
            "outlinewidth": 0,
            "ticks": ""
           }
          },
          "colorscale": {
           "diverging": [
            [
             0,
             "#8e0152"
            ],
            [
             0.1,
             "#c51b7d"
            ],
            [
             0.2,
             "#de77ae"
            ],
            [
             0.3,
             "#f1b6da"
            ],
            [
             0.4,
             "#fde0ef"
            ],
            [
             0.5,
             "#f7f7f7"
            ],
            [
             0.6,
             "#e6f5d0"
            ],
            [
             0.7,
             "#b8e186"
            ],
            [
             0.8,
             "#7fbc41"
            ],
            [
             0.9,
             "#4d9221"
            ],
            [
             1,
             "#276419"
            ]
           ],
           "sequential": [
            [
             0,
             "#0d0887"
            ],
            [
             0.1111111111111111,
             "#46039f"
            ],
            [
             0.2222222222222222,
             "#7201a8"
            ],
            [
             0.3333333333333333,
             "#9c179e"
            ],
            [
             0.4444444444444444,
             "#bd3786"
            ],
            [
             0.5555555555555556,
             "#d8576b"
            ],
            [
             0.6666666666666666,
             "#ed7953"
            ],
            [
             0.7777777777777778,
             "#fb9f3a"
            ],
            [
             0.8888888888888888,
             "#fdca26"
            ],
            [
             1,
             "#f0f921"
            ]
           ],
           "sequentialminus": [
            [
             0,
             "#0d0887"
            ],
            [
             0.1111111111111111,
             "#46039f"
            ],
            [
             0.2222222222222222,
             "#7201a8"
            ],
            [
             0.3333333333333333,
             "#9c179e"
            ],
            [
             0.4444444444444444,
             "#bd3786"
            ],
            [
             0.5555555555555556,
             "#d8576b"
            ],
            [
             0.6666666666666666,
             "#ed7953"
            ],
            [
             0.7777777777777778,
             "#fb9f3a"
            ],
            [
             0.8888888888888888,
             "#fdca26"
            ],
            [
             1,
             "#f0f921"
            ]
           ]
          },
          "colorway": [
           "#636efa",
           "#EF553B",
           "#00cc96",
           "#ab63fa",
           "#FFA15A",
           "#19d3f3",
           "#FF6692",
           "#B6E880",
           "#FF97FF",
           "#FECB52"
          ],
          "font": {
           "color": "#2a3f5f"
          },
          "geo": {
           "bgcolor": "white",
           "lakecolor": "white",
           "landcolor": "#E5ECF6",
           "showlakes": true,
           "showland": true,
           "subunitcolor": "white"
          },
          "hoverlabel": {
           "align": "left"
          },
          "hovermode": "closest",
          "mapbox": {
           "style": "light"
          },
          "paper_bgcolor": "white",
          "plot_bgcolor": "#E5ECF6",
          "polar": {
           "angularaxis": {
            "gridcolor": "white",
            "linecolor": "white",
            "ticks": ""
           },
           "bgcolor": "#E5ECF6",
           "radialaxis": {
            "gridcolor": "white",
            "linecolor": "white",
            "ticks": ""
           }
          },
          "scene": {
           "xaxis": {
            "backgroundcolor": "#E5ECF6",
            "gridcolor": "white",
            "gridwidth": 2,
            "linecolor": "white",
            "showbackground": true,
            "ticks": "",
            "zerolinecolor": "white"
           },
           "yaxis": {
            "backgroundcolor": "#E5ECF6",
            "gridcolor": "white",
            "gridwidth": 2,
            "linecolor": "white",
            "showbackground": true,
            "ticks": "",
            "zerolinecolor": "white"
           },
           "zaxis": {
            "backgroundcolor": "#E5ECF6",
            "gridcolor": "white",
            "gridwidth": 2,
            "linecolor": "white",
            "showbackground": true,
            "ticks": "",
            "zerolinecolor": "white"
           }
          },
          "shapedefaults": {
           "line": {
            "color": "#2a3f5f"
           }
          },
          "ternary": {
           "aaxis": {
            "gridcolor": "white",
            "linecolor": "white",
            "ticks": ""
           },
           "baxis": {
            "gridcolor": "white",
            "linecolor": "white",
            "ticks": ""
           },
           "bgcolor": "#E5ECF6",
           "caxis": {
            "gridcolor": "white",
            "linecolor": "white",
            "ticks": ""
           }
          },
          "title": {
           "x": 0.05
          },
          "xaxis": {
           "automargin": true,
           "gridcolor": "white",
           "linecolor": "white",
           "ticks": "",
           "title": {
            "standoff": 15
           },
           "zerolinecolor": "white",
           "zerolinewidth": 2
          },
          "yaxis": {
           "automargin": true,
           "gridcolor": "white",
           "linecolor": "white",
           "ticks": "",
           "title": {
            "standoff": 15
           },
           "zerolinecolor": "white",
           "zerolinewidth": 2
          }
         }
        },
        "title": {
         "text": "Comparison of rating score from users with only one ratign compared to score from users with multiple ratings"
        },
        "xaxis": {
         "anchor": "y",
         "domain": [
          0,
          1
         ],
         "matches": "x2",
         "showticklabels": false,
         "visible": false
        },
        "xaxis2": {
         "anchor": "y2",
         "domain": [
          0,
          1
         ],
         "visible": false
        },
        "yaxis": {
         "anchor": "x",
         "domain": [
          0.5,
          1
         ]
        },
        "yaxis2": {
         "anchor": "x2",
         "domain": [
          0,
          0.5
         ]
        }
       }
      }
     },
     "metadata": {},
     "output_type": "display_data"
    }
   ],
   "source": [
    "#Max threshold that makes sense\n",
    "#threshold = 0.0312\n",
    "threshold = 0.02\n",
    "descripion_only_one_ratings = ['Score distribution from <br> Users with only one rating']\n",
    "descriont_multiple_ratings = ['Score distribution from <br> Users with multiple ratings']\n",
    "colors = px.colors.sequential.Viridis\n",
    "fig = make_subplots(rows=2, cols=1, shared_xaxes=True, vertical_spacing = 0.00)\n",
    "create_stacked_barchart_subplot(fig, threshold, descripion_only_one_ratings, binned_ratings_single_account_percentage, 1, 1, colors, list_of_ratings, True)\n",
    "create_stacked_barchart_subplot(fig, threshold, descriont_multiple_ratings, binned_ratings_without_single_accounts_percentage, 1, 2, colors, list_of_ratings, False)\n",
    "\n",
    "fig.update_layout(barmode='stack')\n",
    "fig.update_layout(title={'text': \"Comparison of rating score from users with only one ratign compared to score from users with multiple ratings\"})\n",
    "fig.update_xaxes(visible=False)\n",
    "fig.update_layout(plot_bgcolor=\"#FFFFFF\")\n",
    "fig.show()"
   ]
  }
 ],
 "metadata": {
  "kernelspec": {
   "display_name": "dviz",
   "language": "python",
   "name": "python3"
  },
  "language_info": {
   "codemirror_mode": {
    "name": "ipython",
    "version": 3
   },
   "file_extension": ".py",
   "mimetype": "text/x-python",
   "name": "python",
   "nbconvert_exporter": "python",
   "pygments_lexer": "ipython3",
   "version": "3.10.6"
  },
  "orig_nbformat": 4,
  "vscode": {
   "interpreter": {
    "hash": "acc9a91b6998de036ca9c194e26b210da4c2e06b7cf5d9e1b42b0f3f179806fe"
   }
  }
 },
 "nbformat": 4,
 "nbformat_minor": 2
}
