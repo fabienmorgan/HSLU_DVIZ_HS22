{
 "cells": [
  {
   "attachments": {},
   "cell_type": "markdown",
   "metadata": {},
   "source": [
    "# Anomaly Detection 'Many Ratings'\n",
    "KLF v1.0"
   ]
  },
  {
   "cell_type": "code",
   "execution_count": null,
   "metadata": {},
   "outputs": [],
   "source": [
    "import numpy as np\n",
    "import pandas as pd\n",
    "import plotly.express as px\n",
    "import plotly.graph_objects as go\n",
    "import plotly.io as pio\n",
    "from plotly.subplots import make_subplots\n",
    "from os.path import exists"
   ]
  },
  {
   "attachments": {},
   "cell_type": "markdown",
   "metadata": {},
   "source": [
    "### Build reduced ratings dataset (if not exists)\n",
    "All ratings are about 1.2GB and cause significant delays while loading.\n",
    "Since we only need a tiny fraction of this data, we'll reduce the data based on user ids.\n",
    "\n",
    "This is a one-time operation, but it needs to be done again if there are new users to include or in new environments."
   ]
  },
  {
   "cell_type": "code",
   "execution_count": null,
   "metadata": {},
   "outputs": [],
   "source": [
    "if not exists('data/data_visualizations/reduced_ratings.csv'):\n",
    "    users_to_include = [172357,134596,123100]\n",
    "\n",
    "    all_ratings = pd.read_csv('data/all_ratings.csv')\n",
    "    all_ratings = all_ratings.query('userId in @users_to_include')\n",
    "    all_ratings.to_csv('data/data_visualizations/reduced_ratings.csv', header=True, index=False)"
   ]
  },
  {
   "attachments": {},
   "cell_type": "markdown",
   "metadata": {},
   "source": [
    "## Import (local)"
   ]
  },
  {
   "cell_type": "code",
   "execution_count": null,
   "metadata": {},
   "outputs": [],
   "source": [
    "ratings_single_account = pd.read_csv('data/ratings_single_account.csv')\n",
    "movies_single_account = pd.read_csv('data/movies_single_account.csv')\n",
    "reduced_ratings = pd.read_csv('data/reduced_ratings.csv')"
   ]
  },
  {
   "attachments": {},
   "cell_type": "markdown",
   "metadata": {},
   "source": [
    "## Set Global Design"
   ]
  },
  {
   "cell_type": "code",
   "execution_count": null,
   "metadata": {},
   "outputs": [],
   "source": [
    "def ratings_for_uid(user_id):\n",
    "    all_user_ratings = reduced_ratings.query(f'userId == {user_id}').copy()\n",
    "    all_user_ratings.sort_values(by=['rating_date'], inplace=True)\n",
    "    all_user_ratings['rating_date'] = pd.to_datetime(all_user_ratings['rating_date'])\n",
    "    return all_user_ratings\n",
    "\n",
    "def apply_grid_bg_design(go):\n",
    "    go.update_layout(\n",
    "        plot_bgcolor= 'rgb(244,247,251)',\n",
    "    )\n",
    "    go.update_xaxes(\n",
    "        showgrid=True, gridwidth=1, gridcolor='lightgrey'\n",
    "    )\n",
    "    go.update_yaxes(\n",
    "        showgrid=True, gridwidth=1, gridcolor='lightgrey'\n",
    "    )\n",
    "    "
   ]
  },
  {
   "attachments": {},
   "cell_type": "markdown",
   "metadata": {},
   "source": [
    "# Users with many ratings\n",
    "\n",
    "It is not uncommon to have very enthusiastic users. There will always be a small fraction of people with significantly more interactions than the average person. However, we do have some users with interesting rating activity. \n",
    "\n",
    "The most active user has rated over 23'000 movies in less than 3 years. We don't want to be judgmental, but this is a bit too much, even for a _very_ enthusiastic movie connoisseur. The average movie length is around 90 minutes.<sup>1</sup> Under the assumption that this user was legit and watched all movies in his 3-year rating period, he would have spent about 32 hours a day watching movies.\n",
    "\n",
    "Unlike detecting suspect activity in empty profiles, we have a lot more data to work with here. This allows us to get an insight into the rating patterns of individual users.\n",
    "\n",
    "For most of the Top 20 most active users, there are obvious signs indicating bot activity. One phenomenon a lot of them share is 'Rating Bursts', short timeframes with hundreds of ratings in minutes. Another common pattern is a very even, unnatural distribution of ratings.\n",
    "\n",
    "We are more interested in the ones who deviate from obvious bot patterns - heavy users with seemingly legitimate rating activity.\n",
    "\n",
    "<sup>1</sup> <cite>Average Movie Length - https://towardsdatascience.com/are-new-movies-longer-than-they-were-10hh20-50-year-ago-a35356b2ca5b</cite>\n",
    "\n"
   ]
  },
  {
   "cell_type": "code",
   "execution_count": null,
   "metadata": {},
   "outputs": [],
   "source": [
    "# Showing unnatural patterns (rating Bursts, Distribution)\n",
    "def plot_indicators():\n",
    "    all_user_ratings = ratings_for_uid(172357)\n",
    "\n",
    "    t_range = ['2016-06-25 08:00:00','2016-06-25 12:00:00']\n",
    "    all_user_ratings = all_user_ratings.query('rating_date >= @t_range[0] and rating_date <= @t_range[1]')\n",
    "\n",
    "    fgo2 = make_subplots(rows=1, cols=2, column_widths=[0.5,0.5], subplot_titles=(f'(1) Rating Bursts','(2) Unnatural Distribution'))\n",
    "\n",
    "    fig2_1 = px.scatter(all_user_ratings,x='rating_date',y='rating', range_x=t_range)\n",
    "    fig2_2 = px.histogram(all_user_ratings,x='rating')\n",
    "\n",
    "    fgo2.add_trace(fig2_1['data'][0], row=1, col=1)\n",
    "    fgo2.add_trace(fig2_2['data'][0], row=1, col=2)\n",
    "\n",
    "\n",
    "\n",
    "    fgo2.update_layout(\n",
    "        title_text=f'Potential Indicators for Bot Activity (Visualized for User 172357)',\n",
    "    )\n",
    "\n",
    "    fgo2.update_layout(\n",
    "        yaxis = dict(\n",
    "            tickmode = 'array',\n",
    "            tickvals = np.arange(0.5,5.5,0.5)\n",
    "        ),\n",
    "        bargap = 0.05,\n",
    "    )\n",
    "\n",
    "    fgo2.update_xaxes(\n",
    "        range=t_range,\n",
    "        row=1,\n",
    "        col=1,\n",
    "    )\n",
    "\n",
    "    fgo2.update_xaxes(\n",
    "        tickmode = 'array',\n",
    "        tickvals = np.arange(0.5,5.5,0.5),\n",
    "        row=1,\n",
    "        col=2,\n",
    "    )\n",
    "\n",
    "    fgo2.update_xaxes(title_text=\"Time\", titlefont_size=12, row = 1, col = 1)\n",
    "    fgo2.update_yaxes(title_text=\"Rating\", titlefont_size=12, row = 1, col = 1)\n",
    "    fgo2.update_xaxes(title_text=\"Rating\", titlefont_size=12, row = 1, col = 2)\n",
    "    fgo2.update_yaxes(title_text=\"Count\", titlefont_size=12, row = 1, col = 2)\n",
    "\n",
    "\n",
    "    fgo2.update_traces(\n",
    "        marker_color='darkgrey',\n",
    "    )\n",
    "\n",
    "    apply_grid_bg_design(fgo2)\n",
    "\n",
    "    return fgo2\n",
    "\n",
    "plot_indicators().show()"
   ]
  },
  {
   "attachments": {},
   "cell_type": "markdown",
   "metadata": {},
   "source": [
    "Our hypothesis is, that (1) Rating Bursts and (2) Unnatural Distributions are the main indicators for bot activity. We searched for a user to showcase this pattern. This example shows a data burst of user 172357 with a duration of about 2 hours with the corresponding histogram. The burst consists of 1005 ratings. \n",
    "\n",
    "In the case of (1) Rating Bursts, they are easy to identify. We define Rating Bursts as unusually high amounts of activity in contained timeframes, ranging from seconds to hours with distinct intervals with no activity. The distribution of rating scores is irrelevant to this criteria. \n",
    "\n",
    "Despite our initial assumption that (2) Unnatural Distribution would be fairly easy to identify, we found that this may not be the case. There is no consensus about what \"unnatural\" means. We presumed that natural distributions would come in form of a normal curve. However, this is only an assumption, and we are biased by our own rating behavior. In the case of user 172357, the distribution could be legitimate and indicate that the user tends to rate movies in a polarized way. "
   ]
  },
  {
   "attachments": {},
   "cell_type": "markdown",
   "metadata": {},
   "source": [
    "## User 134596\n",
    "\n",
    "While we were plotting Rating Bursts for the most active users, we stumbled upon a pattern that differed from the rest. User 134596 was intriguing at first sight. Despite his high number of Ratings, his activity seems legitimate at first glance. "
   ]
  },
  {
   "attachments": {},
   "cell_type": "markdown",
   "metadata": {},
   "source": [
    "There are no rating bursts and continuous activity over almost 10 years. The rating distribution does not show any signs of polarization.\n",
    "\n",
    "For comparison we plotted the same chart for the most active user (yes, the one with 23k Ratings) to demonstrate the differences. Note, that we used a different time period here, as the user only started his rating activity late 2015."
   ]
  },
  {
   "cell_type": "code",
   "execution_count": null,
   "metadata": {},
   "outputs": [],
   "source": [
    "def plot_strip_scatter(uid,time_range):\n",
    "    all_user_ratings = ratings_for_uid(uid)\n",
    "\n",
    "    fgo = make_subplots(rows=1, cols=2, column_widths=[0.75,0.25], subplot_titles=('Rating Distribution','Histogram'), shared_yaxes=True)\n",
    "\n",
    "    fig1_1 = px.scatter(all_user_ratings,x='rating_date',y='rating', hover_data=['movieId'], color=\"rating\")\n",
    "    fig1_1.update_traces(\n",
    "        marker=dict(size=16, symbol=\"line-ns\", line=dict(width=0, color=\"DarkSlateGrey\")),\n",
    "        selector=dict(mode=\"markers\"),\n",
    "    )\n",
    "\n",
    "    fig1_2 = px.histogram(all_user_ratings,y='rating')\n",
    "    fig1_2.update_traces(\n",
    "        marker_color='darkgrey'\n",
    "    )\n",
    "    \n",
    "    fgo.add_trace(go.Heatmap(\n",
    "    z=[np.arange(0.0,5.5,0.5)],\n",
    "    colorscale=[\n",
    "        [0, \"#0f0787\"],\n",
    "        [0.1, \"#0f0787\"],\n",
    "\n",
    "        [0.1, \"#5011a4\"],\n",
    "        [0.2, \"#5011a4\"],\n",
    "\n",
    "        [0.2, \"#790eac\"],\n",
    "        [0.3, \"#790eac\"],\n",
    "\n",
    "        [0.3, \"#a833aa\"],\n",
    "        [0.4, \"#a833aa\"],\n",
    "\n",
    "        [0.4, \"#be3e8a\"],\n",
    "        [0.5, \"#be3e8a\"],\n",
    "\n",
    "        [0.5, \"#d8576b\"],\n",
    "        [0.6, \"#d8576b\"],\n",
    "\n",
    "        [0.6, \"#ed7953\"],\n",
    "        [0.7, \"#ed7953\"],\n",
    "\n",
    "        [0.7, \"#fba342\"],\n",
    "        [0.8, \"#fba342\"],\n",
    "\n",
    "        [0.8, \"#fdcb2d\"],\n",
    "        [0.9, \"#fdcb2d\"],\n",
    "\n",
    "        [0.9, \"#f1f421\"],\n",
    "        [1.0, \"#f1f421\"]\n",
    "\n",
    "    ],\n",
    "    \n",
    "    colorbar=dict(\n",
    "        ticks=\"outside\",\n",
    "        ticktext= [str(x) for x in np.arange(0.5,5.5,0.5)],\n",
    "        tickvals=np.arange(0.25,5.25,0.5),\n",
    "    )  \n",
    "    ))\n",
    "    \n",
    "\n",
    "    fgo.update_layout(\n",
    "        plot_bgcolor= 'rgb(244,247,251)',\n",
    "        yaxis = dict(\n",
    "            tickmode = 'array',\n",
    "            tickvals = np.arange(0.5,5.5,0.5)\n",
    "        ),\n",
    "        title_text=f'Movie Ratings of User <b>{uid}</b> ({len(all_user_ratings)} Ratings)',\n",
    "        coloraxis_showscale=False,\n",
    "        xaxis_range=time_range,\n",
    "    )\n",
    "\n",
    "    fgo.update_xaxes(title_text=\"Time\", titlefont_size=12, row = 1, col = 1)\n",
    "    fgo.update_yaxes(title_text=\"Rating\", titlefont_size=12, row = 1, col = 1)\n",
    "    fgo.update_xaxes(title_text=\"Count per Rating Level\", titlefont_size=12, row = 1, col = 2)\n",
    "\n",
    "    fgo.update_xaxes(\n",
    "        showgrid=True, gridwidth=1, gridcolor='lightgrey'\n",
    "    )\n",
    "    fgo.update_yaxes(\n",
    "        showgrid=True, gridwidth=1, gridcolor='lightgrey', range=[0,5.5]\n",
    "    )\n",
    "\n",
    "    fgo.add_trace(fig1_1['data'][0], row=1, col=1)\n",
    "    fgo.add_trace(fig1_2['data'][0], row=1, col=2)\n",
    "\n",
    "    return fgo\n",
    "\n",
    "plot_strip_scatter(134596,['2009-01-01','2019-01-01']).show()\n",
    "plot_strip_scatter(123100,['2015-07-01','2019-01-01']).show()\n"
   ]
  },
  {
   "attachments": {},
   "cell_type": "markdown",
   "metadata": {},
   "source": [
    "## Searching for Time Patterns\n",
    "\n"
   ]
  },
  {
   "cell_type": "code",
   "execution_count": null,
   "metadata": {},
   "outputs": [],
   "source": [
    "def plot_freq_polygon(uid,startyear,endyear):\n",
    "    all_user_ratings = ratings_for_uid(uid)\n",
    "    all_user_ratings['hour'] = all_user_ratings['rating_date'].dt.hour.astype(int)\n",
    "\n",
    "    fgo = go.Figure()\n",
    "\n",
    "    color_seq = px.colors.qualitative.D3\n",
    "    color_seq_count = 0\n",
    "\n",
    "    empty_df = pd.DataFrame(index=np.arange(0,24,1))\n",
    "    empty_df['count'] = 0\n",
    "\n",
    "    for i in np.arange(startyear,endyear + 1,1):\n",
    "        all_user_ratings_for_year_i = all_user_ratings[all_user_ratings['rating_date'].dt.year == i]\n",
    "\n",
    "        #This only includes hours present in data\n",
    "        hour_freq = all_user_ratings_for_year_i.hour.value_counts().to_frame()\n",
    "        hour_freq.rename(columns={'hour':'count'},inplace=True)\n",
    "        hour_freq.sort_index(inplace=True)\n",
    "\n",
    "        #This fills in missing hours with 0\n",
    "        hour_freq = hour_freq.combine_first(empty_df)\n",
    "        \n",
    "        fgo.add_trace(go.Scatter(x=hour_freq.index, y=hour_freq['count'], name=f'Year {i}', line=dict(color=color_seq[color_seq_count]), mode='lines+markers'))\n",
    "        color_seq_count += 1\n",
    "\n",
    "\n",
    "    fgo.update_xaxes(\n",
    "        title_text=\"Timeline through the day\",\n",
    "        titlefont_size=12,\n",
    "    )\n",
    "    fgo.update_yaxes(\n",
    "        title_text=\"Rating Count for Hour\",\n",
    "        titlefont_size=12,\n",
    "        range=[0,120]\n",
    "    )\n",
    "    fgo.add_vrect(\n",
    "        x0=17,\n",
    "        x1=22,\n",
    "        line_width=1,\n",
    "        fillcolor='black',\n",
    "        opacity=0.15,\n",
    "        annotation_text='Hours with<br>no activity',\n",
    "        annotation_position='top left',\n",
    "        annotation=dict(font_size=14, font_color='black'),\n",
    "    )\n",
    "\n",
    "    fgo.update_layout(\n",
    "        title_text=f'Favorite Rating Hours for User <b>{uid}</b>',\n",
    "        xaxis = dict(\n",
    "            tickmode = 'array',\n",
    "            tickvals = np.arange(0,24,1)\n",
    "        ),\n",
    "    )\n",
    "    apply_grid_bg_design(fgo)\n",
    "    return fgo\n",
    "\n",
    "plot_freq_polygon(134596,2011,2013).show()"
   ]
  },
  {
   "attachments": {},
   "cell_type": "markdown",
   "metadata": {},
   "source": [
    "The Rating Distribution of User 123100 gives the impression of a very even, unnatural distribution. However, the histogram shows clearly, that this is not the case. This confirms our findings in the previous chart about bot activity indicators. \n",
    "\n",
    "But now back to the infamous User 134596. The previous visualization left us with more questions than answers. There are no indications to justify doubt in the legitimacy of this user. It feels like finding the needle in the haystack. Maybe there is no needle and User 134596 is in fact human. But we are not done yet.\n",
    "\n",
    "Every Rating has a timestamp. With thousands of ratings, this metadata can reveal a lot of insight into the user's life. In the original dataset, the timestamps are in Unix time. Even if the server moved to a different time zone, the data would still be consistent. \n",
    "\n",
    "We created a histogram of the timestamps. As expected, there is no anomaly in minutes and seconds. Ratings are evenly distributed over minutes and seconds. However, the hours tell a different story. There is a distinct pattern of activity over the day. There are even some resting hours with no activity at all. We decided to compare this histogram over years. There was no need for normalization since all selected years had similar value ranges. There is still a very visible correlation between favorite rating hours over years. "
   ]
  },
  {
   "attachments": {},
   "cell_type": "markdown",
   "metadata": {},
   "source": [
    "The consistency of hours without any ratings is remarkable. If User 134596 is a human, we can only applaud this disciplined sleep schedule. The decrease in activity from 3UTC to 11UTC could indicate a workday, however, this is pure speculation."
   ]
  },
  {
   "attachments": {},
   "cell_type": "markdown",
   "metadata": {},
   "source": [
    "In Conclusion, we found no evidence to justify doubt in the legitimacy of User 134596. If this User actually turns out to be a bot, we can only admire the creators dedication and effort to run this account for over ten years. Of course, there are still more sophisticated ways to detect irregularities we haven't covered yet. In summary, our approach worked well to identify anomalies for most busy user accounts."
   ]
  },
  {
   "attachments": {},
   "cell_type": "markdown",
   "metadata": {},
   "source": [
    "Most of the users with the most ratings showed clear signs of bot activity in the form of Rating Bursts very similar to the one shown for User 123100. With hundreds of ratings per minute, it is safe to assume that they weren't manually entered by a human. Despite our initial assumption that the histogram would be a good indicator of bot activity, we found that this is not the case.\n",
    "\n"
   ]
  },
  {
   "attachments": {},
   "cell_type": "markdown",
   "metadata": {},
   "source": [
    "## Main Conclusion"
   ]
  },
  {
   "attachments": {},
   "cell_type": "markdown",
   "metadata": {},
   "source": []
  }
 ],
 "metadata": {
  "kernelspec": {
   "display_name": "hslu",
   "language": "python",
   "name": "python3"
  },
  "language_info": {
   "codemirror_mode": {
    "name": "ipython",
    "version": 3
   },
   "file_extension": ".py",
   "mimetype": "text/x-python",
   "name": "python",
   "nbconvert_exporter": "python",
   "pygments_lexer": "ipython3",
   "version": "3.10.8"
  },
  "orig_nbformat": 4,
  "vscode": {
   "interpreter": {
    "hash": "70ad058309c9caa7f42f09d1248bc1aafc6c70e117ef45eb9ecbc23a5e7a7fc0"
   }
  }
 },
 "nbformat": 4,
 "nbformat_minor": 2
}
